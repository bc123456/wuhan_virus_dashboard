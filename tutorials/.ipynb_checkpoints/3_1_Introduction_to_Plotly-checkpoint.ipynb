{
 "cells": [
  {
   "cell_type": "markdown",
   "metadata": {},
   "source": [
    "<img src=\"../assets/fti_logo.png\" align=\"left\" style=\"width: 300px;\" hspace=\"20px\" vspace=\"5px\">\n",
    "<h1>Introduction to Plotly in Python</h1>\n",
    "<hr>\n",
    "\n"
   ]
  },
  {
   "cell_type": "markdown",
   "metadata": {
    "toc": true
   },
   "source": [
    "<h1>Table of Contents<span class=\"tocSkip\"></span></h1>\n",
    "<div class=\"toc\"><ul class=\"toc-item\"><li><span><a href=\"#Introduction\" data-toc-modified-id=\"Introduction-1\"><span class=\"toc-item-num\">1&nbsp;&nbsp;</span>Introduction</a></span></li><li><span><a href=\"#Load-the-Data\" data-toc-modified-id=\"Load-the-Data-2\"><span class=\"toc-item-num\">2&nbsp;&nbsp;</span>Load the Data</a></span></li></ul></div>"
   ]
  },
  {
   "cell_type": "markdown",
   "metadata": {},
   "source": [
    "## Introduction\n",
    "\n",
    "The aim of these labs is to intrduce you to data visualization with the Plotly library in Python. In Python, there are a lot of data visualization libraries. The first one and the most popular one is `matplotlib`. It is used to generate simple visualization. Many other libraries are built on top of `matplotlib`. They are 'wrappers' over `matplotlib` allowing access to `matplotlib`'s methods with less code. These popular libraries are for example:\n",
    " - `seaborn`: generate graphs that looks more professional and well-decorated\n",
    " - `ggplot`: provide syntax similar to the `ggplot` library in R programming\n",
    " - `bokeh`: supports interactive, web-ready plots\n",
    "\n",
    "**Plotly**'s strength lies in making interactive plots, and it offers contour plots, which cannot be found in most libraries. More importantly, it is natively supported by the dashboard library that we will introduce later in this course."
   ]
  },
  {
   "cell_type": "markdown",
   "metadata": {},
   "source": [
    "The first thing we will do is to import the necessary Python modules"
   ]
  },
  {
   "cell_type": "code",
   "execution_count": 2,
   "metadata": {},
   "outputs": [],
   "source": [
    "import pickle  # for loading stored data files\n",
    "import pandas  # for dataframe manupulation"
   ]
  },
  {
   "cell_type": "markdown",
   "metadata": {},
   "source": [
    "## Load the Data\n",
    "\n",
    "We will use the CASES table for creating plots in this notebook. The CASES table is already stored in the data folder as a pickle file. to load it, we will use the pickle module."
   ]
  },
  {
   "cell_type": "code",
   "execution_count": null,
   "metadata": {},
   "outputs": [],
   "source": [
    "with open(r'../data/CASES.pkl', 'rb') as f:\n",
    "    cases_df = "
   ]
  },
  {
   "cell_type": "code",
   "execution_count": null,
   "metadata": {},
   "outputs": [],
   "source": []
  }
 ],
 "metadata": {
  "kernelspec": {
   "display_name": ".venv",
   "language": "python",
   "name": ".venv"
  },
  "language_info": {
   "codemirror_mode": {
    "name": "ipython",
    "version": 3
   },
   "file_extension": ".py",
   "mimetype": "text/x-python",
   "name": "python",
   "nbconvert_exporter": "python",
   "pygments_lexer": "ipython3",
   "version": "3.6.4"
  },
  "toc": {
   "base_numbering": 1,
   "nav_menu": {},
   "number_sections": true,
   "sideBar": true,
   "skip_h1_title": true,
   "title_cell": "Table of Contents",
   "title_sidebar": "Contents",
   "toc_cell": true,
   "toc_position": {
    "height": "calc(100% - 180px)",
    "left": "10px",
    "top": "150px",
    "width": "264.796875px"
   },
   "toc_section_display": true,
   "toc_window_display": true
  }
 },
 "nbformat": 4,
 "nbformat_minor": 4
}
