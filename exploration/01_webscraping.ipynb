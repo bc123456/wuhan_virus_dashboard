{
 "cells": [
  {
   "cell_type": "code",
   "execution_count": 1,
   "metadata": {},
   "outputs": [],
   "source": [
    "import requests\n",
    "import pandas as pd\n",
    "from bs4 import BeautifulSoup\n",
    "from geopy.geocoders import Nominatim, GoogleV3\n",
    "import numpy as np\n",
    "# from googlemaps import GoogleMaps\n",
    "import time\n",
    "import folium\n",
    "import pickle"
   ]
  },
  {
   "cell_type": "code",
   "execution_count": 2,
   "metadata": {},
   "outputs": [],
   "source": [
    "url = r'https://wars.vote4.hk/en/high-risk'\n",
    "hk_latitude, hk_longitude = 22.2793278, 114.1628131\n",
    "page = requests.get(url)\n",
    "soup = BeautifulSoup(page.content, 'html.parser')"
   ]
  },
  {
   "cell_type": "code",
   "execution_count": 3,
   "metadata": {},
   "outputs": [],
   "source": [
    "html_addresses = soup.find_all(\n",
    "    'span', \n",
    "    class_=r'MuiTypography-root MuiTypography-h6 MuiTypography-colorTextPrimary'\n",
    ")\n",
    "\n",
    "# html_descriptions = soup.find_all(\n",
    "#     'div',\n",
    "#     class_=r'MuiBox-root jss572 high-risk__HighRiskCard-o7qs9y-0 gdBVup'\n",
    "# )\n",
    "\n"
   ]
  },
  {
   "cell_type": "code",
   "execution_count": 4,
   "metadata": {},
   "outputs": [],
   "source": [
    "high_risk_addresses = [job_elem.text + ', Hong Kong' for job_elem in html_addresses]\n",
    "# high_risk_descriptions = [job_elem.text for job_elem in html_descriptions]"
   ]
  },
  {
   "cell_type": "code",
   "execution_count": 5,
   "metadata": {},
   "outputs": [],
   "source": [
    "with open(r'../assets/coordinates_df.pkl', 'rb') as f:\n",
    "    coordinates_df = pickle.load(f)"
   ]
  },
  {
   "cell_type": "code",
   "execution_count": 6,
   "metadata": {},
   "outputs": [],
   "source": [
    "def pop_address(address):\n",
    "    address_lst = address.split(',')\n",
    "    return ','.join(address_lst[1:])\n",
    "    \n",
    "def get_coordinates(address):\n",
    "    trial0 = 0\n",
    "    trial1 = 0\n",
    "    trial2 = 0\n",
    "    location = None\n",
    "    while location is None and trial0 < 5:\n",
    "        trial0 += 1\n",
    "        try:\n",
    "            location = geolocator.geocode(address)\n",
    "        except:\n",
    "            pass\n",
    "        time.sleep(1)\n",
    "    if location is None:\n",
    "        simplified_address1 = pop_address(address)\n",
    "        while location is None and trial1 < 5:\n",
    "            trial1 += 1\n",
    "            try:\n",
    "                location = geolocator.geocode(simplified_address1)\n",
    "            except:\n",
    "                pass\n",
    "            time.sleep(1)\n",
    "    if location is None:\n",
    "        simplified_address2 = pop_address(simplified_address1)\n",
    "        while location is None and trial2 < 5:\n",
    "            trial2 += 1\n",
    "            try:\n",
    "                location = geolocator.geocode(simplified_address2)\n",
    "            except:\n",
    "                pass\n",
    "            time.sleep(1)\n",
    "    if location:\n",
    "        return (location.latitude, location.longitude)\n",
    "    else:\n",
    "        return None, None"
   ]
  },
  {
   "cell_type": "code",
   "execution_count": 9,
   "metadata": {},
   "outputs": [],
   "source": [
    "for address in high_risk_addresses:\n",
    "    if address in coordinates_df['address'].values:\n",
    "        pass\n",
    "    else:\n",
    "        latitude, longitude = get_coordinates(address)\n",
    "        coordinates_df = coordinates_df.append(\n",
    "            pd.Series({\n",
    "                'loc_id': coordinates_df['loc_id'].max() + 1,\n",
    "                'address': address,\n",
    "                'latitude': latitude,\n",
    "                'longitude': longitude\n",
    "            }),\n",
    "            ignore_index=True\n",
    "        )"
   ]
  },
  {
   "cell_type": "code",
   "execution_count": 10,
   "metadata": {},
   "outputs": [
    {
     "data": {
      "text/html": [
       "<div>\n",
       "<style scoped>\n",
       "    .dataframe tbody tr th:only-of-type {\n",
       "        vertical-align: middle;\n",
       "    }\n",
       "\n",
       "    .dataframe tbody tr th {\n",
       "        vertical-align: top;\n",
       "    }\n",
       "\n",
       "    .dataframe thead th {\n",
       "        text-align: right;\n",
       "    }\n",
       "</style>\n",
       "<table border=\"1\" class=\"dataframe\">\n",
       "  <thead>\n",
       "    <tr style=\"text-align: right;\">\n",
       "      <th></th>\n",
       "      <th>loc_id</th>\n",
       "      <th>address</th>\n",
       "      <th>latitude</th>\n",
       "      <th>longitude</th>\n",
       "    </tr>\n",
       "  </thead>\n",
       "  <tbody>\n",
       "    <tr>\n",
       "      <th>0</th>\n",
       "      <td>0</td>\n",
       "      <td>West Kowloon Station, Hong Kong</td>\n",
       "      <td>22.304080</td>\n",
       "      <td>114.166501</td>\n",
       "    </tr>\n",
       "    <tr>\n",
       "      <th>1</th>\n",
       "      <td>1</td>\n",
       "      <td>Block 1, Site 11, Whampoa Garden, Hong Kong</td>\n",
       "      <td>22.305096</td>\n",
       "      <td>114.190610</td>\n",
       "    </tr>\n",
       "    <tr>\n",
       "      <th>2</th>\n",
       "      <td>2</td>\n",
       "      <td>Wah Cheung House, Ching Wah Court, Hong Kong</td>\n",
       "      <td>22.348820</td>\n",
       "      <td>114.101020</td>\n",
       "    </tr>\n",
       "    <tr>\n",
       "      <th>3</th>\n",
       "      <td>3</td>\n",
       "      <td>Tower 2, The Coronation, Hong Kong</td>\n",
       "      <td>22.309601</td>\n",
       "      <td>114.165802</td>\n",
       "    </tr>\n",
       "    <tr>\n",
       "      <th>4</th>\n",
       "      <td>4</td>\n",
       "      <td>Cheung Hong Estate, Hong Mei House, Hong Kong</td>\n",
       "      <td>22.350433</td>\n",
       "      <td>114.099415</td>\n",
       "    </tr>\n",
       "    <tr>\n",
       "      <th>5</th>\n",
       "      <td>5</td>\n",
       "      <td>Four Seasons Hotel Hong Kong, Hong Kong</td>\n",
       "      <td>22.286634</td>\n",
       "      <td>114.156700</td>\n",
       "    </tr>\n",
       "    <tr>\n",
       "      <th>6</th>\n",
       "      <td>6</td>\n",
       "      <td>W Hong Kong, Hong Kong</td>\n",
       "      <td>22.304636</td>\n",
       "      <td>114.160593</td>\n",
       "    </tr>\n",
       "    <tr>\n",
       "      <th>7</th>\n",
       "      <td>7</td>\n",
       "      <td>The Ritz-Carlton, Hong Kong</td>\n",
       "      <td>22.303165</td>\n",
       "      <td>114.160212</td>\n",
       "    </tr>\n",
       "    <tr>\n",
       "      <th>8</th>\n",
       "      <td>8</td>\n",
       "      <td>8/F, Tin Hei House, Tin Ping Estate, Hong Kong</td>\n",
       "      <td>22.503551</td>\n",
       "      <td>114.133889</td>\n",
       "    </tr>\n",
       "    <tr>\n",
       "      <th>9</th>\n",
       "      <td>9</td>\n",
       "      <td>Block 2, Tseung Kwan O Plaza, Hong Kong</td>\n",
       "      <td>22.308929</td>\n",
       "      <td>114.262603</td>\n",
       "    </tr>\n",
       "    <tr>\n",
       "      <th>10</th>\n",
       "      <td>10</td>\n",
       "      <td>Universal Towers, Hong Kong</td>\n",
       "      <td>22.296215</td>\n",
       "      <td>114.171632</td>\n",
       "    </tr>\n",
       "    <tr>\n",
       "      <th>11</th>\n",
       "      <td>11</td>\n",
       "      <td>South Hillcrest, Hong Kong</td>\n",
       "      <td>22.412291</td>\n",
       "      <td>113.983503</td>\n",
       "    </tr>\n",
       "    <tr>\n",
       "      <th>12</th>\n",
       "      <td>12</td>\n",
       "      <td>Tower 1, Lake Silver, Hong Kong</td>\n",
       "      <td>22.428621</td>\n",
       "      <td>114.243974</td>\n",
       "    </tr>\n",
       "    <tr>\n",
       "      <th>13</th>\n",
       "      <td>13</td>\n",
       "      <td>Empire Hotel Kowloon, Tsim Sha Tsui, Hong Kong</td>\n",
       "      <td>22.300866</td>\n",
       "      <td>114.175152</td>\n",
       "    </tr>\n",
       "    <tr>\n",
       "      <th>14</th>\n",
       "      <td>14</td>\n",
       "      <td>Floor 23, Li Po Chun Chambers, Hong Kong</td>\n",
       "      <td>22.286215</td>\n",
       "      <td>114.154002</td>\n",
       "    </tr>\n",
       "    <tr>\n",
       "      <th>15</th>\n",
       "      <td>15</td>\n",
       "      <td>26/F, Tower 1A, Oceanaire, Hong Kong</td>\n",
       "      <td>22.415273</td>\n",
       "      <td>114.223638</td>\n",
       "    </tr>\n",
       "    <tr>\n",
       "      <th>16</th>\n",
       "      <td>16</td>\n",
       "      <td>Alva Hotel by Royal, Hong Kong</td>\n",
       "      <td>22.383572</td>\n",
       "      <td>114.208377</td>\n",
       "    </tr>\n",
       "  </tbody>\n",
       "</table>\n",
       "</div>"
      ],
      "text/plain": [
       "    loc_id                                         address   latitude  \\\n",
       "0        0                 West Kowloon Station, Hong Kong  22.304080   \n",
       "1        1     Block 1, Site 11, Whampoa Garden, Hong Kong  22.305096   \n",
       "2        2    Wah Cheung House, Ching Wah Court, Hong Kong  22.348820   \n",
       "3        3              Tower 2, The Coronation, Hong Kong  22.309601   \n",
       "4        4   Cheung Hong Estate, Hong Mei House, Hong Kong  22.350433   \n",
       "5        5         Four Seasons Hotel Hong Kong, Hong Kong  22.286634   \n",
       "6        6                          W Hong Kong, Hong Kong  22.304636   \n",
       "7        7                     The Ritz-Carlton, Hong Kong  22.303165   \n",
       "8        8  8/F, Tin Hei House, Tin Ping Estate, Hong Kong  22.503551   \n",
       "9        9         Block 2, Tseung Kwan O Plaza, Hong Kong  22.308929   \n",
       "10      10                     Universal Towers, Hong Kong  22.296215   \n",
       "11      11                      South Hillcrest, Hong Kong  22.412291   \n",
       "12      12                 Tower 1, Lake Silver, Hong Kong  22.428621   \n",
       "13      13  Empire Hotel Kowloon, Tsim Sha Tsui, Hong Kong  22.300866   \n",
       "14      14        Floor 23, Li Po Chun Chambers, Hong Kong  22.286215   \n",
       "15      15            26/F, Tower 1A, Oceanaire, Hong Kong  22.415273   \n",
       "16      16                  Alva Hotel by Royal, Hong Kong  22.383572   \n",
       "\n",
       "     longitude  \n",
       "0   114.166501  \n",
       "1   114.190610  \n",
       "2   114.101020  \n",
       "3   114.165802  \n",
       "4   114.099415  \n",
       "5   114.156700  \n",
       "6   114.160593  \n",
       "7   114.160212  \n",
       "8   114.133889  \n",
       "9   114.262603  \n",
       "10  114.171632  \n",
       "11  113.983503  \n",
       "12  114.243974  \n",
       "13  114.175152  \n",
       "14  114.154002  \n",
       "15  114.223638  \n",
       "16  114.208377  "
      ]
     },
     "execution_count": 10,
     "metadata": {},
     "output_type": "execute_result"
    }
   ],
   "source": [
    "coordinates_df"
   ]
  },
  {
   "cell_type": "code",
   "execution_count": 11,
   "metadata": {},
   "outputs": [],
   "source": [
    "with open(r'../assets/coordinates_df.pkl', 'wb') as f:\n",
    "    pickle.dump(coordinates_df,f)"
   ]
  },
  {
   "cell_type": "markdown",
   "metadata": {},
   "source": [
    "## Simple Visualization using Folium"
   ]
  },
  {
   "cell_type": "code",
   "execution_count": 12,
   "metadata": {},
   "outputs": [],
   "source": [
    "map_hk = folium.Map(location=[hk_latitude, hk_longitude], zoom_start=9, tiles='stamentoner')\n",
    "# folium.TileLayer('stamentoner').add_to(map_hk)\n",
    "\n",
    "for idx, row in coordinates_df.iterrows():\n",
    "    address = row['address']\n",
    "    latitude = row['latitude']\n",
    "    longitude = row['longitude']\n",
    "#     print(latitude)\n",
    "    if not np.isnan(latitude) and not np.isnan(longitude):\n",
    "#         print(f'add {address}')\n",
    "        folium.CircleMarker(\n",
    "            [latitude, longitude],\n",
    "            radius=5,\n",
    "            popup=address,\n",
    "            color='red',\n",
    "            fill=True,\n",
    "            fill_color='#3186cc',\n",
    "            fill_opacity=0.7,\n",
    "            parse_html=False\n",
    "        ).add_to(map_hk)"
   ]
  },
  {
   "cell_type": "code",
   "execution_count": 13,
   "metadata": {},
   "outputs": [
    {
     "data": {
      "text/html": [
       "<div style=\"width:100%;\"><div style=\"position:relative;width:100%;height:0;padding-bottom:60%;\"><iframe src=\"data:text/html;charset=utf-8;base64,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\" style=\"position:absolute;width:100%;height:100%;left:0;top:0;border:none !important;\" allowfullscreen webkitallowfullscreen mozallowfullscreen></iframe></div></div>"
      ],
      "text/plain": [
       "<folium.folium.Map at 0x113145ba8>"
      ]
     },
     "execution_count": 13,
     "metadata": {},
     "output_type": "execute_result"
    }
   ],
   "source": [
    "map_hk"
   ]
  },
  {
   "cell_type": "markdown",
   "metadata": {},
   "source": [
    "## Plotly Visualization"
   ]
  },
  {
   "cell_type": "code",
   "execution_count": 14,
   "metadata": {},
   "outputs": [],
   "source": [
    "with open(r'../assets/.mapbox_token', 'rb') as f:\n",
    "    token = pickle.load(f)"
   ]
  },
  {
   "cell_type": "code",
   "execution_count": 16,
   "metadata": {},
   "outputs": [
    {
     "data": {
      "application/vnd.plotly.v1+json": {
       "config": {
        "plotlyServerURL": "https://plot.ly"
       },
       "data": [
        {
         "hoverlabel": {
          "namelength": 0
         },
         "hovertemplate": "<b>%{hovertext}</b><br><br>size=%{marker.size}<br>latitude=%{lat}<br>longitude=%{lon}",
         "hovertext": [
          "West Kowloon Station, Hong Kong",
          "Block 1, Site 11, Whampoa Garden, Hong Kong",
          "Wah Cheung House, Ching Wah Court, Hong Kong",
          "Tower 2, The Coronation, Hong Kong",
          "Cheung Hong Estate, Hong Mei House, Hong Kong",
          "Four Seasons Hotel Hong Kong, Hong Kong",
          "W Hong Kong, Hong Kong",
          "The Ritz-Carlton, Hong Kong",
          "8/F, Tin Hei House, Tin Ping Estate, Hong Kong",
          "Block 2, Tseung Kwan O Plaza, Hong Kong",
          "Universal Towers, Hong Kong",
          "South Hillcrest, Hong Kong",
          "Tower 1, Lake Silver, Hong Kong",
          "Empire Hotel Kowloon, Tsim Sha Tsui, Hong Kong",
          "Floor 23, Li Po Chun Chambers, Hong Kong",
          "26/F, Tower 1A, Oceanaire, Hong Kong",
          "Alva Hotel by Royal, Hong Kong"
         ],
         "lat": [
          22.30408,
          22.3050958,
          22.34882045,
          22.30960125,
          22.35043255,
          22.286634,
          22.3046362,
          22.3031647,
          22.5035506,
          22.30892915,
          22.296215,
          22.412290650000003,
          22.42862075,
          22.30086585,
          22.28621485,
          22.415272899999998,
          22.383572049999998
         ],
         "legendgroup": "",
         "lon": [
          114.166501,
          114.1906104,
          114.10101986186172,
          114.1658022313385,
          114.09941493781143,
          114.15670007736094,
          114.1605933,
          114.1602124,
          114.1338886,
          114.26260260691501,
          114.17163247574399,
          113.98350325928573,
          114.24397364106841,
          114.17515235300337,
          114.1540021399411,
          114.22363798622936,
          114.20837702798516
         ],
         "marker": {
          "color": "#636efa",
          "size": [
           1,
           1,
           1,
           1,
           1,
           1,
           1,
           1,
           1,
           1,
           1,
           1,
           1,
           1,
           1,
           1,
           1
          ],
          "sizemode": "area",
          "sizeref": 0.027777777777777776
         },
         "mode": "markers",
         "name": "",
         "showlegend": false,
         "subplot": "mapbox",
         "type": "scattermapbox"
        }
       ],
       "layout": {
        "height": 900,
        "legend": {
         "itemsizing": "constant",
         "tracegroupgap": 0
        },
        "mapbox": {
         "accesstoken": "pk.eyJ1IjoiYnJpYW5icmlhbjEyMyIsImEiOiJjazYzZDZvb3EwOHRzM2VvYzNpZGU1ZHJyIn0.5zV3WXr1ZQ0DY3F_dQFVLw",
         "center": {
          "lat": 22.34399980882353,
          "lon": 114.16221319403203
         },
         "domain": {
          "x": [
           0,
           1
          ],
          "y": [
           0,
           1
          ]
         },
         "zoom": 10
        },
        "template": {
         "data": {
          "bar": [
           {
            "error_x": {
             "color": "#2a3f5f"
            },
            "error_y": {
             "color": "#2a3f5f"
            },
            "marker": {
             "line": {
              "color": "#E5ECF6",
              "width": 0.5
             }
            },
            "type": "bar"
           }
          ],
          "barpolar": [
           {
            "marker": {
             "line": {
              "color": "#E5ECF6",
              "width": 0.5
             }
            },
            "type": "barpolar"
           }
          ],
          "carpet": [
           {
            "aaxis": {
             "endlinecolor": "#2a3f5f",
             "gridcolor": "white",
             "linecolor": "white",
             "minorgridcolor": "white",
             "startlinecolor": "#2a3f5f"
            },
            "baxis": {
             "endlinecolor": "#2a3f5f",
             "gridcolor": "white",
             "linecolor": "white",
             "minorgridcolor": "white",
             "startlinecolor": "#2a3f5f"
            },
            "type": "carpet"
           }
          ],
          "choropleth": [
           {
            "colorbar": {
             "outlinewidth": 0,
             "ticks": ""
            },
            "type": "choropleth"
           }
          ],
          "contour": [
           {
            "colorbar": {
             "outlinewidth": 0,
             "ticks": ""
            },
            "colorscale": [
             [
              0,
              "#0d0887"
             ],
             [
              0.1111111111111111,
              "#46039f"
             ],
             [
              0.2222222222222222,
              "#7201a8"
             ],
             [
              0.3333333333333333,
              "#9c179e"
             ],
             [
              0.4444444444444444,
              "#bd3786"
             ],
             [
              0.5555555555555556,
              "#d8576b"
             ],
             [
              0.6666666666666666,
              "#ed7953"
             ],
             [
              0.7777777777777778,
              "#fb9f3a"
             ],
             [
              0.8888888888888888,
              "#fdca26"
             ],
             [
              1,
              "#f0f921"
             ]
            ],
            "type": "contour"
           }
          ],
          "contourcarpet": [
           {
            "colorbar": {
             "outlinewidth": 0,
             "ticks": ""
            },
            "type": "contourcarpet"
           }
          ],
          "heatmap": [
           {
            "colorbar": {
             "outlinewidth": 0,
             "ticks": ""
            },
            "colorscale": [
             [
              0,
              "#0d0887"
             ],
             [
              0.1111111111111111,
              "#46039f"
             ],
             [
              0.2222222222222222,
              "#7201a8"
             ],
             [
              0.3333333333333333,
              "#9c179e"
             ],
             [
              0.4444444444444444,
              "#bd3786"
             ],
             [
              0.5555555555555556,
              "#d8576b"
             ],
             [
              0.6666666666666666,
              "#ed7953"
             ],
             [
              0.7777777777777778,
              "#fb9f3a"
             ],
             [
              0.8888888888888888,
              "#fdca26"
             ],
             [
              1,
              "#f0f921"
             ]
            ],
            "type": "heatmap"
           }
          ],
          "heatmapgl": [
           {
            "colorbar": {
             "outlinewidth": 0,
             "ticks": ""
            },
            "colorscale": [
             [
              0,
              "#0d0887"
             ],
             [
              0.1111111111111111,
              "#46039f"
             ],
             [
              0.2222222222222222,
              "#7201a8"
             ],
             [
              0.3333333333333333,
              "#9c179e"
             ],
             [
              0.4444444444444444,
              "#bd3786"
             ],
             [
              0.5555555555555556,
              "#d8576b"
             ],
             [
              0.6666666666666666,
              "#ed7953"
             ],
             [
              0.7777777777777778,
              "#fb9f3a"
             ],
             [
              0.8888888888888888,
              "#fdca26"
             ],
             [
              1,
              "#f0f921"
             ]
            ],
            "type": "heatmapgl"
           }
          ],
          "histogram": [
           {
            "marker": {
             "colorbar": {
              "outlinewidth": 0,
              "ticks": ""
             }
            },
            "type": "histogram"
           }
          ],
          "histogram2d": [
           {
            "colorbar": {
             "outlinewidth": 0,
             "ticks": ""
            },
            "colorscale": [
             [
              0,
              "#0d0887"
             ],
             [
              0.1111111111111111,
              "#46039f"
             ],
             [
              0.2222222222222222,
              "#7201a8"
             ],
             [
              0.3333333333333333,
              "#9c179e"
             ],
             [
              0.4444444444444444,
              "#bd3786"
             ],
             [
              0.5555555555555556,
              "#d8576b"
             ],
             [
              0.6666666666666666,
              "#ed7953"
             ],
             [
              0.7777777777777778,
              "#fb9f3a"
             ],
             [
              0.8888888888888888,
              "#fdca26"
             ],
             [
              1,
              "#f0f921"
             ]
            ],
            "type": "histogram2d"
           }
          ],
          "histogram2dcontour": [
           {
            "colorbar": {
             "outlinewidth": 0,
             "ticks": ""
            },
            "colorscale": [
             [
              0,
              "#0d0887"
             ],
             [
              0.1111111111111111,
              "#46039f"
             ],
             [
              0.2222222222222222,
              "#7201a8"
             ],
             [
              0.3333333333333333,
              "#9c179e"
             ],
             [
              0.4444444444444444,
              "#bd3786"
             ],
             [
              0.5555555555555556,
              "#d8576b"
             ],
             [
              0.6666666666666666,
              "#ed7953"
             ],
             [
              0.7777777777777778,
              "#fb9f3a"
             ],
             [
              0.8888888888888888,
              "#fdca26"
             ],
             [
              1,
              "#f0f921"
             ]
            ],
            "type": "histogram2dcontour"
           }
          ],
          "mesh3d": [
           {
            "colorbar": {
             "outlinewidth": 0,
             "ticks": ""
            },
            "type": "mesh3d"
           }
          ],
          "parcoords": [
           {
            "line": {
             "colorbar": {
              "outlinewidth": 0,
              "ticks": ""
             }
            },
            "type": "parcoords"
           }
          ],
          "pie": [
           {
            "automargin": true,
            "type": "pie"
           }
          ],
          "scatter": [
           {
            "marker": {
             "colorbar": {
              "outlinewidth": 0,
              "ticks": ""
             }
            },
            "type": "scatter"
           }
          ],
          "scatter3d": [
           {
            "line": {
             "colorbar": {
              "outlinewidth": 0,
              "ticks": ""
             }
            },
            "marker": {
             "colorbar": {
              "outlinewidth": 0,
              "ticks": ""
             }
            },
            "type": "scatter3d"
           }
          ],
          "scattercarpet": [
           {
            "marker": {
             "colorbar": {
              "outlinewidth": 0,
              "ticks": ""
             }
            },
            "type": "scattercarpet"
           }
          ],
          "scattergeo": [
           {
            "marker": {
             "colorbar": {
              "outlinewidth": 0,
              "ticks": ""
             }
            },
            "type": "scattergeo"
           }
          ],
          "scattergl": [
           {
            "marker": {
             "colorbar": {
              "outlinewidth": 0,
              "ticks": ""
             }
            },
            "type": "scattergl"
           }
          ],
          "scattermapbox": [
           {
            "marker": {
             "colorbar": {
              "outlinewidth": 0,
              "ticks": ""
             }
            },
            "type": "scattermapbox"
           }
          ],
          "scatterpolar": [
           {
            "marker": {
             "colorbar": {
              "outlinewidth": 0,
              "ticks": ""
             }
            },
            "type": "scatterpolar"
           }
          ],
          "scatterpolargl": [
           {
            "marker": {
             "colorbar": {
              "outlinewidth": 0,
              "ticks": ""
             }
            },
            "type": "scatterpolargl"
           }
          ],
          "scatterternary": [
           {
            "marker": {
             "colorbar": {
              "outlinewidth": 0,
              "ticks": ""
             }
            },
            "type": "scatterternary"
           }
          ],
          "surface": [
           {
            "colorbar": {
             "outlinewidth": 0,
             "ticks": ""
            },
            "colorscale": [
             [
              0,
              "#0d0887"
             ],
             [
              0.1111111111111111,
              "#46039f"
             ],
             [
              0.2222222222222222,
              "#7201a8"
             ],
             [
              0.3333333333333333,
              "#9c179e"
             ],
             [
              0.4444444444444444,
              "#bd3786"
             ],
             [
              0.5555555555555556,
              "#d8576b"
             ],
             [
              0.6666666666666666,
              "#ed7953"
             ],
             [
              0.7777777777777778,
              "#fb9f3a"
             ],
             [
              0.8888888888888888,
              "#fdca26"
             ],
             [
              1,
              "#f0f921"
             ]
            ],
            "type": "surface"
           }
          ],
          "table": [
           {
            "cells": {
             "fill": {
              "color": "#EBF0F8"
             },
             "line": {
              "color": "white"
             }
            },
            "header": {
             "fill": {
              "color": "#C8D4E3"
             },
             "line": {
              "color": "white"
             }
            },
            "type": "table"
           }
          ]
         },
         "layout": {
          "annotationdefaults": {
           "arrowcolor": "#2a3f5f",
           "arrowhead": 0,
           "arrowwidth": 1
          },
          "coloraxis": {
           "colorbar": {
            "outlinewidth": 0,
            "ticks": ""
           }
          },
          "colorscale": {
           "diverging": [
            [
             0,
             "#8e0152"
            ],
            [
             0.1,
             "#c51b7d"
            ],
            [
             0.2,
             "#de77ae"
            ],
            [
             0.3,
             "#f1b6da"
            ],
            [
             0.4,
             "#fde0ef"
            ],
            [
             0.5,
             "#f7f7f7"
            ],
            [
             0.6,
             "#e6f5d0"
            ],
            [
             0.7,
             "#b8e186"
            ],
            [
             0.8,
             "#7fbc41"
            ],
            [
             0.9,
             "#4d9221"
            ],
            [
             1,
             "#276419"
            ]
           ],
           "sequential": [
            [
             0,
             "#0d0887"
            ],
            [
             0.1111111111111111,
             "#46039f"
            ],
            [
             0.2222222222222222,
             "#7201a8"
            ],
            [
             0.3333333333333333,
             "#9c179e"
            ],
            [
             0.4444444444444444,
             "#bd3786"
            ],
            [
             0.5555555555555556,
             "#d8576b"
            ],
            [
             0.6666666666666666,
             "#ed7953"
            ],
            [
             0.7777777777777778,
             "#fb9f3a"
            ],
            [
             0.8888888888888888,
             "#fdca26"
            ],
            [
             1,
             "#f0f921"
            ]
           ],
           "sequentialminus": [
            [
             0,
             "#0d0887"
            ],
            [
             0.1111111111111111,
             "#46039f"
            ],
            [
             0.2222222222222222,
             "#7201a8"
            ],
            [
             0.3333333333333333,
             "#9c179e"
            ],
            [
             0.4444444444444444,
             "#bd3786"
            ],
            [
             0.5555555555555556,
             "#d8576b"
            ],
            [
             0.6666666666666666,
             "#ed7953"
            ],
            [
             0.7777777777777778,
             "#fb9f3a"
            ],
            [
             0.8888888888888888,
             "#fdca26"
            ],
            [
             1,
             "#f0f921"
            ]
           ]
          },
          "colorway": [
           "#636efa",
           "#EF553B",
           "#00cc96",
           "#ab63fa",
           "#FFA15A",
           "#19d3f3",
           "#FF6692",
           "#B6E880",
           "#FF97FF",
           "#FECB52"
          ],
          "font": {
           "color": "#2a3f5f"
          },
          "geo": {
           "bgcolor": "white",
           "lakecolor": "white",
           "landcolor": "#E5ECF6",
           "showlakes": true,
           "showland": true,
           "subunitcolor": "white"
          },
          "hoverlabel": {
           "align": "left"
          },
          "hovermode": "closest",
          "mapbox": {
           "style": "light"
          },
          "paper_bgcolor": "white",
          "plot_bgcolor": "#E5ECF6",
          "polar": {
           "angularaxis": {
            "gridcolor": "white",
            "linecolor": "white",
            "ticks": ""
           },
           "bgcolor": "#E5ECF6",
           "radialaxis": {
            "gridcolor": "white",
            "linecolor": "white",
            "ticks": ""
           }
          },
          "scene": {
           "xaxis": {
            "backgroundcolor": "#E5ECF6",
            "gridcolor": "white",
            "gridwidth": 2,
            "linecolor": "white",
            "showbackground": true,
            "ticks": "",
            "zerolinecolor": "white"
           },
           "yaxis": {
            "backgroundcolor": "#E5ECF6",
            "gridcolor": "white",
            "gridwidth": 2,
            "linecolor": "white",
            "showbackground": true,
            "ticks": "",
            "zerolinecolor": "white"
           },
           "zaxis": {
            "backgroundcolor": "#E5ECF6",
            "gridcolor": "white",
            "gridwidth": 2,
            "linecolor": "white",
            "showbackground": true,
            "ticks": "",
            "zerolinecolor": "white"
           }
          },
          "shapedefaults": {
           "line": {
            "color": "#2a3f5f"
           }
          },
          "ternary": {
           "aaxis": {
            "gridcolor": "white",
            "linecolor": "white",
            "ticks": ""
           },
           "baxis": {
            "gridcolor": "white",
            "linecolor": "white",
            "ticks": ""
           },
           "bgcolor": "#E5ECF6",
           "caxis": {
            "gridcolor": "white",
            "linecolor": "white",
            "ticks": ""
           }
          },
          "title": {
           "x": 0.05
          },
          "xaxis": {
           "automargin": true,
           "gridcolor": "white",
           "linecolor": "white",
           "ticks": "",
           "title": {
            "standoff": 15
           },
           "zerolinecolor": "white",
           "zerolinewidth": 2
          },
          "yaxis": {
           "automargin": true,
           "gridcolor": "white",
           "linecolor": "white",
           "ticks": "",
           "title": {
            "standoff": 15
           },
           "zerolinecolor": "white",
           "zerolinewidth": 2
          }
         }
        },
        "title": {
         "text": "Coronovirus High Risk Areas"
        }
       }
      },
      "text/html": [
       "<div>\n",
       "        \n",
       "        \n",
       "            <div id=\"e6b7c4b6-cb09-47ed-814f-4c218527c2c9\" class=\"plotly-graph-div\" style=\"height:900px; width:100%;\"></div>\n",
       "            <script type=\"text/javascript\">\n",
       "                require([\"plotly\"], function(Plotly) {\n",
       "                    window.PLOTLYENV=window.PLOTLYENV || {};\n",
       "                    \n",
       "                if (document.getElementById(\"e6b7c4b6-cb09-47ed-814f-4c218527c2c9\")) {\n",
       "                    Plotly.newPlot(\n",
       "                        'e6b7c4b6-cb09-47ed-814f-4c218527c2c9',\n",
       "                        [{\"hoverlabel\": {\"namelength\": 0}, \"hovertemplate\": \"<b>%{hovertext}</b><br><br>size=%{marker.size}<br>latitude=%{lat}<br>longitude=%{lon}\", \"hovertext\": [\"West Kowloon Station, Hong Kong\", \"Block 1, Site 11, Whampoa Garden, Hong Kong\", \"Wah Cheung House, Ching Wah Court, Hong Kong\", \"Tower 2, The Coronation, Hong Kong\", \"Cheung Hong Estate, Hong Mei House, Hong Kong\", \"Four Seasons Hotel Hong Kong, Hong Kong\", \"W Hong Kong, Hong Kong\", \"The Ritz-Carlton, Hong Kong\", \"8/F, Tin Hei House, Tin Ping Estate, Hong Kong\", \"Block 2, Tseung Kwan O Plaza, Hong Kong\", \"Universal Towers, Hong Kong\", \"South Hillcrest, Hong Kong\", \"Tower 1, Lake Silver, Hong Kong\", \"Empire Hotel Kowloon, Tsim Sha Tsui, Hong Kong\", \"Floor 23, Li Po Chun Chambers, Hong Kong\", \"26/F, Tower 1A, Oceanaire, Hong Kong\", \"Alva Hotel by Royal, Hong Kong\"], \"lat\": [22.30408, 22.3050958, 22.34882045, 22.30960125, 22.35043255, 22.286634, 22.3046362, 22.3031647, 22.5035506, 22.30892915, 22.296215, 22.412290650000003, 22.42862075, 22.30086585, 22.28621485, 22.415272899999998, 22.383572049999998], \"legendgroup\": \"\", \"lon\": [114.166501, 114.1906104, 114.10101986186172, 114.1658022313385, 114.09941493781143, 114.15670007736094, 114.1605933, 114.1602124, 114.1338886, 114.26260260691501, 114.17163247574399, 113.98350325928573, 114.24397364106841, 114.17515235300337, 114.1540021399411, 114.22363798622936, 114.20837702798516], \"marker\": {\"color\": \"#636efa\", \"size\": [1, 1, 1, 1, 1, 1, 1, 1, 1, 1, 1, 1, 1, 1, 1, 1, 1], \"sizemode\": \"area\", \"sizeref\": 0.027777777777777776}, \"mode\": \"markers\", \"name\": \"\", \"showlegend\": false, \"subplot\": \"mapbox\", \"type\": \"scattermapbox\"}],\n",
       "                        {\"height\": 900, \"legend\": {\"itemsizing\": \"constant\", \"tracegroupgap\": 0}, \"mapbox\": {\"accesstoken\": \"pk.eyJ1IjoiYnJpYW5icmlhbjEyMyIsImEiOiJjazYzZDZvb3EwOHRzM2VvYzNpZGU1ZHJyIn0.5zV3WXr1ZQ0DY3F_dQFVLw\", \"center\": {\"lat\": 22.34399980882353, \"lon\": 114.16221319403203}, \"domain\": {\"x\": [0.0, 1.0], \"y\": [0.0, 1.0]}, \"zoom\": 10}, \"template\": {\"data\": {\"bar\": [{\"error_x\": {\"color\": \"#2a3f5f\"}, \"error_y\": {\"color\": \"#2a3f5f\"}, \"marker\": {\"line\": {\"color\": \"#E5ECF6\", \"width\": 0.5}}, \"type\": \"bar\"}], \"barpolar\": [{\"marker\": {\"line\": {\"color\": \"#E5ECF6\", \"width\": 0.5}}, \"type\": \"barpolar\"}], \"carpet\": [{\"aaxis\": {\"endlinecolor\": \"#2a3f5f\", \"gridcolor\": \"white\", \"linecolor\": \"white\", \"minorgridcolor\": \"white\", \"startlinecolor\": \"#2a3f5f\"}, \"baxis\": {\"endlinecolor\": \"#2a3f5f\", \"gridcolor\": \"white\", \"linecolor\": \"white\", \"minorgridcolor\": \"white\", \"startlinecolor\": \"#2a3f5f\"}, \"type\": \"carpet\"}], \"choropleth\": [{\"colorbar\": {\"outlinewidth\": 0, \"ticks\": \"\"}, \"type\": \"choropleth\"}], \"contour\": [{\"colorbar\": {\"outlinewidth\": 0, \"ticks\": \"\"}, \"colorscale\": [[0.0, \"#0d0887\"], [0.1111111111111111, \"#46039f\"], [0.2222222222222222, \"#7201a8\"], [0.3333333333333333, \"#9c179e\"], [0.4444444444444444, \"#bd3786\"], [0.5555555555555556, \"#d8576b\"], [0.6666666666666666, \"#ed7953\"], [0.7777777777777778, \"#fb9f3a\"], [0.8888888888888888, \"#fdca26\"], [1.0, \"#f0f921\"]], \"type\": \"contour\"}], \"contourcarpet\": [{\"colorbar\": {\"outlinewidth\": 0, \"ticks\": \"\"}, \"type\": \"contourcarpet\"}], \"heatmap\": [{\"colorbar\": {\"outlinewidth\": 0, \"ticks\": \"\"}, \"colorscale\": [[0.0, \"#0d0887\"], [0.1111111111111111, \"#46039f\"], [0.2222222222222222, \"#7201a8\"], [0.3333333333333333, \"#9c179e\"], [0.4444444444444444, \"#bd3786\"], [0.5555555555555556, \"#d8576b\"], [0.6666666666666666, \"#ed7953\"], [0.7777777777777778, \"#fb9f3a\"], [0.8888888888888888, \"#fdca26\"], [1.0, \"#f0f921\"]], \"type\": \"heatmap\"}], \"heatmapgl\": [{\"colorbar\": {\"outlinewidth\": 0, \"ticks\": \"\"}, \"colorscale\": [[0.0, \"#0d0887\"], [0.1111111111111111, \"#46039f\"], [0.2222222222222222, \"#7201a8\"], [0.3333333333333333, \"#9c179e\"], [0.4444444444444444, \"#bd3786\"], [0.5555555555555556, \"#d8576b\"], [0.6666666666666666, \"#ed7953\"], [0.7777777777777778, \"#fb9f3a\"], [0.8888888888888888, \"#fdca26\"], [1.0, \"#f0f921\"]], \"type\": \"heatmapgl\"}], \"histogram\": [{\"marker\": {\"colorbar\": {\"outlinewidth\": 0, \"ticks\": \"\"}}, \"type\": \"histogram\"}], \"histogram2d\": [{\"colorbar\": {\"outlinewidth\": 0, \"ticks\": \"\"}, \"colorscale\": [[0.0, \"#0d0887\"], [0.1111111111111111, \"#46039f\"], [0.2222222222222222, \"#7201a8\"], [0.3333333333333333, \"#9c179e\"], [0.4444444444444444, \"#bd3786\"], [0.5555555555555556, \"#d8576b\"], [0.6666666666666666, \"#ed7953\"], [0.7777777777777778, \"#fb9f3a\"], [0.8888888888888888, \"#fdca26\"], [1.0, \"#f0f921\"]], \"type\": \"histogram2d\"}], \"histogram2dcontour\": [{\"colorbar\": {\"outlinewidth\": 0, \"ticks\": \"\"}, \"colorscale\": [[0.0, \"#0d0887\"], [0.1111111111111111, \"#46039f\"], [0.2222222222222222, \"#7201a8\"], [0.3333333333333333, \"#9c179e\"], [0.4444444444444444, \"#bd3786\"], [0.5555555555555556, \"#d8576b\"], [0.6666666666666666, \"#ed7953\"], [0.7777777777777778, \"#fb9f3a\"], [0.8888888888888888, \"#fdca26\"], [1.0, \"#f0f921\"]], \"type\": \"histogram2dcontour\"}], \"mesh3d\": [{\"colorbar\": {\"outlinewidth\": 0, \"ticks\": \"\"}, \"type\": \"mesh3d\"}], \"parcoords\": [{\"line\": {\"colorbar\": {\"outlinewidth\": 0, \"ticks\": \"\"}}, \"type\": \"parcoords\"}], \"pie\": [{\"automargin\": true, \"type\": \"pie\"}], \"scatter\": [{\"marker\": {\"colorbar\": {\"outlinewidth\": 0, \"ticks\": \"\"}}, \"type\": \"scatter\"}], \"scatter3d\": [{\"line\": {\"colorbar\": {\"outlinewidth\": 0, \"ticks\": \"\"}}, \"marker\": {\"colorbar\": {\"outlinewidth\": 0, \"ticks\": \"\"}}, \"type\": \"scatter3d\"}], \"scattercarpet\": [{\"marker\": {\"colorbar\": {\"outlinewidth\": 0, \"ticks\": \"\"}}, \"type\": \"scattercarpet\"}], \"scattergeo\": [{\"marker\": {\"colorbar\": {\"outlinewidth\": 0, \"ticks\": \"\"}}, \"type\": \"scattergeo\"}], \"scattergl\": [{\"marker\": {\"colorbar\": {\"outlinewidth\": 0, \"ticks\": \"\"}}, \"type\": \"scattergl\"}], \"scattermapbox\": [{\"marker\": {\"colorbar\": {\"outlinewidth\": 0, \"ticks\": \"\"}}, \"type\": \"scattermapbox\"}], \"scatterpolar\": [{\"marker\": {\"colorbar\": {\"outlinewidth\": 0, \"ticks\": \"\"}}, \"type\": \"scatterpolar\"}], \"scatterpolargl\": [{\"marker\": {\"colorbar\": {\"outlinewidth\": 0, \"ticks\": \"\"}}, \"type\": \"scatterpolargl\"}], \"scatterternary\": [{\"marker\": {\"colorbar\": {\"outlinewidth\": 0, \"ticks\": \"\"}}, \"type\": \"scatterternary\"}], \"surface\": [{\"colorbar\": {\"outlinewidth\": 0, \"ticks\": \"\"}, \"colorscale\": [[0.0, \"#0d0887\"], [0.1111111111111111, \"#46039f\"], [0.2222222222222222, \"#7201a8\"], [0.3333333333333333, \"#9c179e\"], [0.4444444444444444, \"#bd3786\"], [0.5555555555555556, \"#d8576b\"], [0.6666666666666666, \"#ed7953\"], [0.7777777777777778, \"#fb9f3a\"], [0.8888888888888888, \"#fdca26\"], [1.0, \"#f0f921\"]], \"type\": \"surface\"}], \"table\": [{\"cells\": {\"fill\": {\"color\": \"#EBF0F8\"}, \"line\": {\"color\": \"white\"}}, \"header\": {\"fill\": {\"color\": \"#C8D4E3\"}, \"line\": {\"color\": \"white\"}}, \"type\": \"table\"}]}, \"layout\": {\"annotationdefaults\": {\"arrowcolor\": \"#2a3f5f\", \"arrowhead\": 0, \"arrowwidth\": 1}, \"coloraxis\": {\"colorbar\": {\"outlinewidth\": 0, \"ticks\": \"\"}}, \"colorscale\": {\"diverging\": [[0, \"#8e0152\"], [0.1, \"#c51b7d\"], [0.2, \"#de77ae\"], [0.3, \"#f1b6da\"], [0.4, \"#fde0ef\"], [0.5, \"#f7f7f7\"], [0.6, \"#e6f5d0\"], [0.7, \"#b8e186\"], [0.8, \"#7fbc41\"], [0.9, \"#4d9221\"], [1, \"#276419\"]], \"sequential\": [[0.0, \"#0d0887\"], [0.1111111111111111, \"#46039f\"], [0.2222222222222222, \"#7201a8\"], [0.3333333333333333, \"#9c179e\"], [0.4444444444444444, \"#bd3786\"], [0.5555555555555556, \"#d8576b\"], [0.6666666666666666, \"#ed7953\"], [0.7777777777777778, \"#fb9f3a\"], [0.8888888888888888, \"#fdca26\"], [1.0, \"#f0f921\"]], \"sequentialminus\": [[0.0, \"#0d0887\"], [0.1111111111111111, \"#46039f\"], [0.2222222222222222, \"#7201a8\"], [0.3333333333333333, \"#9c179e\"], [0.4444444444444444, \"#bd3786\"], [0.5555555555555556, \"#d8576b\"], [0.6666666666666666, \"#ed7953\"], [0.7777777777777778, \"#fb9f3a\"], [0.8888888888888888, \"#fdca26\"], [1.0, \"#f0f921\"]]}, \"colorway\": [\"#636efa\", \"#EF553B\", \"#00cc96\", \"#ab63fa\", \"#FFA15A\", \"#19d3f3\", \"#FF6692\", \"#B6E880\", \"#FF97FF\", \"#FECB52\"], \"font\": {\"color\": \"#2a3f5f\"}, \"geo\": {\"bgcolor\": \"white\", \"lakecolor\": \"white\", \"landcolor\": \"#E5ECF6\", \"showlakes\": true, \"showland\": true, \"subunitcolor\": \"white\"}, \"hoverlabel\": {\"align\": \"left\"}, \"hovermode\": \"closest\", \"mapbox\": {\"style\": \"light\"}, \"paper_bgcolor\": \"white\", \"plot_bgcolor\": \"#E5ECF6\", \"polar\": {\"angularaxis\": {\"gridcolor\": \"white\", \"linecolor\": \"white\", \"ticks\": \"\"}, \"bgcolor\": \"#E5ECF6\", \"radialaxis\": {\"gridcolor\": \"white\", \"linecolor\": \"white\", \"ticks\": \"\"}}, \"scene\": {\"xaxis\": {\"backgroundcolor\": \"#E5ECF6\", \"gridcolor\": \"white\", \"gridwidth\": 2, \"linecolor\": \"white\", \"showbackground\": true, \"ticks\": \"\", \"zerolinecolor\": \"white\"}, \"yaxis\": {\"backgroundcolor\": \"#E5ECF6\", \"gridcolor\": \"white\", \"gridwidth\": 2, \"linecolor\": \"white\", \"showbackground\": true, \"ticks\": \"\", \"zerolinecolor\": \"white\"}, \"zaxis\": {\"backgroundcolor\": \"#E5ECF6\", \"gridcolor\": \"white\", \"gridwidth\": 2, \"linecolor\": \"white\", \"showbackground\": true, \"ticks\": \"\", \"zerolinecolor\": \"white\"}}, \"shapedefaults\": {\"line\": {\"color\": \"#2a3f5f\"}}, \"ternary\": {\"aaxis\": {\"gridcolor\": \"white\", \"linecolor\": \"white\", \"ticks\": \"\"}, \"baxis\": {\"gridcolor\": \"white\", \"linecolor\": \"white\", \"ticks\": \"\"}, \"bgcolor\": \"#E5ECF6\", \"caxis\": {\"gridcolor\": \"white\", \"linecolor\": \"white\", \"ticks\": \"\"}}, \"title\": {\"x\": 0.05}, \"xaxis\": {\"automargin\": true, \"gridcolor\": \"white\", \"linecolor\": \"white\", \"ticks\": \"\", \"title\": {\"standoff\": 15}, \"zerolinecolor\": \"white\", \"zerolinewidth\": 2}, \"yaxis\": {\"automargin\": true, \"gridcolor\": \"white\", \"linecolor\": \"white\", \"ticks\": \"\", \"title\": {\"standoff\": 15}, \"zerolinecolor\": \"white\", \"zerolinewidth\": 2}}}, \"title\": {\"text\": \"Coronovirus High Risk Areas\"}},\n",
       "                        {\"responsive\": true}\n",
       "                    ).then(function(){\n",
       "                            \n",
       "var gd = document.getElementById('e6b7c4b6-cb09-47ed-814f-4c218527c2c9');\n",
       "var x = new MutationObserver(function (mutations, observer) {{\n",
       "        var display = window.getComputedStyle(gd).display;\n",
       "        if (!display || display === 'none') {{\n",
       "            console.log([gd, 'removed!']);\n",
       "            Plotly.purge(gd);\n",
       "            observer.disconnect();\n",
       "        }}\n",
       "}});\n",
       "\n",
       "// Listen for the removal of the full notebook cells\n",
       "var notebookContainer = gd.closest('#notebook-container');\n",
       "if (notebookContainer) {{\n",
       "    x.observe(notebookContainer, {childList: true});\n",
       "}}\n",
       "\n",
       "// Listen for the clearing of the current output cell\n",
       "var outputEl = gd.closest('.output');\n",
       "if (outputEl) {{\n",
       "    x.observe(outputEl, {childList: true});\n",
       "}}\n",
       "\n",
       "                        })\n",
       "                };\n",
       "                });\n",
       "            </script>\n",
       "        </div>"
      ]
     },
     "metadata": {},
     "output_type": "display_data"
    }
   ],
   "source": [
    "import plotly.express as px\n",
    "px.set_mapbox_access_token(token)\n",
    "fig = px.scatter_mapbox(\n",
    "    coordinates_df, \n",
    "    lat=\"latitude\", \n",
    "    lon=\"longitude\",     \n",
    "    hover_name = 'address',\n",
    "    zoom=10,\n",
    "    title=r'Coronovirus High Risk Areas',\n",
    "    size=[1] * coordinates_df.shape[0],\n",
    "    size_max=6,\n",
    "    height=900\n",
    ")\n",
    "fig.show()"
   ]
  },
  {
   "cell_type": "code",
   "execution_count": null,
   "metadata": {},
   "outputs": [],
   "source": []
  }
 ],
 "metadata": {
  "kernelspec": {
   "display_name": ".venv",
   "language": "python",
   "name": ".venv"
  },
  "language_info": {
   "codemirror_mode": {
    "name": "ipython",
    "version": 3
   },
   "file_extension": ".py",
   "mimetype": "text/x-python",
   "name": "python",
   "nbconvert_exporter": "python",
   "pygments_lexer": "ipython3",
   "version": "3.6.4"
  },
  "toc": {
   "base_numbering": 1,
   "nav_menu": {},
   "number_sections": true,
   "sideBar": true,
   "skip_h1_title": false,
   "title_cell": "Table of Contents",
   "title_sidebar": "Contents",
   "toc_cell": false,
   "toc_position": {},
   "toc_section_display": true,
   "toc_window_display": false
  }
 },
 "nbformat": 4,
 "nbformat_minor": 4
}
