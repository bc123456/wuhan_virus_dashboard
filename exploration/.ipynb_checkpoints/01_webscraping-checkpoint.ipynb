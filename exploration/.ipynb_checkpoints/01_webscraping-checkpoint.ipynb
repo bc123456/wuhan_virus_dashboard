{
 "cells": [
  {
   "cell_type": "code",
   "execution_count": 1,
   "metadata": {},
   "outputs": [],
   "source": [
    "import requests\n",
    "import pandas as pd\n",
    "from bs4 import BeautifulSoup\n",
    "from geopy.geocoders import Nominatim, GoogleV3\n",
    "import numpy as np\n",
    "# from googlemaps import GoogleMaps\n",
    "import time\n",
    "import folium\n",
    "import pickle"
   ]
  },
  {
   "cell_type": "code",
   "execution_count": 2,
   "metadata": {},
   "outputs": [],
   "source": [
    "url = r'https://wars.vote4.hk/en/high-risk'\n",
    "hk_latitude, hk_longitude = 22.2793278, 114.1628131\n",
    "page = requests.get(url)\n",
    "soup = BeautifulSoup(page.content, 'html.parser')"
   ]
  },
  {
   "cell_type": "code",
   "execution_count": 69,
   "metadata": {},
   "outputs": [],
   "source": [
    "html_addresses = soup.find_all(\n",
    "    'span', \n",
    "    class_=r'MuiTypography-root MuiTypography-h6 MuiTypography-colorTextPrimary'\n",
    ")\n",
    "\n",
    "# html_descriptions = soup.find_all(\n",
    "#     'div',\n",
    "#     class_=r'MuiBox-root jss572 high-risk__HighRiskCard-o7qs9y-0 gdBVup'\n",
    "# )\n",
    "\n"
   ]
  },
  {
   "cell_type": "code",
   "execution_count": 70,
   "metadata": {},
   "outputs": [],
   "source": [
    "high_risk_addresses = [job_elem.text + ', Hong Kong' for job_elem in html_addresses]\n",
    "# high_risk_descriptions = [job_elem.text for job_elem in html_descriptions]"
   ]
  },
  {
   "cell_type": "code",
   "execution_count": 80,
   "metadata": {},
   "outputs": [],
   "source": [
    "with open(r'../assets/coordinates_df.pkl', 'rb') as f:\n",
    "    coordinates_df = pickle.load(f)"
   ]
  },
  {
   "cell_type": "code",
   "execution_count": 72,
   "metadata": {},
   "outputs": [],
   "source": [
    "def pop_address(address):\n",
    "    address_lst = address.split(',')\n",
    "    return ','.join(address_lst[1:])\n",
    "    \n",
    "def get_coordinates(address):\n",
    "    trial0 = 0\n",
    "    trial1 = 0\n",
    "    trial2 = 0\n",
    "    location = None\n",
    "    while location is None and trial0 < 5:\n",
    "        trial0 += 1\n",
    "        try:\n",
    "            location = geolocator.geocode(address)\n",
    "        except:\n",
    "            pass\n",
    "        time.sleep(1)\n",
    "    if location is None:\n",
    "        simplified_address1 = pop_address(address)\n",
    "        while location is None and trial1 < 5:\n",
    "            trial1 += 1\n",
    "            try:\n",
    "                location = geolocator.geocode(simplified_address1)\n",
    "            except:\n",
    "                pass\n",
    "            time.sleep(1)\n",
    "    if location is None:\n",
    "        simplified_address2 = pop_address(simplified_address1)\n",
    "        while location is None and trial2 < 5:\n",
    "            trial2 += 1\n",
    "            try:\n",
    "                location = geolocator.geocode(simplified_address2)\n",
    "            except:\n",
    "                pass\n",
    "            time.sleep(1)\n",
    "    if location:\n",
    "        return (location.latitude, location.longitude)\n",
    "    else:\n",
    "        return None, None"
   ]
  },
  {
   "cell_type": "code",
   "execution_count": 75,
   "metadata": {},
   "outputs": [],
   "source": [
    "for address in high_risk_addresses:\n",
    "    if address is in coordinates_df['address'].values:\n",
    "        pass\n",
    "    else:\n",
    "        latitude, longitude = get_coordinates(address)\n",
    "        coordinates_df = coordinates_df.append(\n",
    "            pd.Series({\n",
    "                'loc_id': coordinates_df['loc_id'].max() + 1\n",
    "                'address': address,\n",
    "                'latitude': latitude,\n",
    "                'longitude': longitude\n",
    "            }),\n",
    "            ignore_index=True\n",
    "        )"
   ]
  },
  {
   "cell_type": "code",
   "execution_count": 77,
   "metadata": {},
   "outputs": [],
   "source": [
    "coordinates_df['loc_id'] = np.arange(coordinates_df.shape[0])"
   ]
  },
  {
   "cell_type": "code",
   "execution_count": 78,
   "metadata": {},
   "outputs": [
    {
     "data": {
      "text/html": [
       "<div>\n",
       "<style scoped>\n",
       "    .dataframe tbody tr th:only-of-type {\n",
       "        vertical-align: middle;\n",
       "    }\n",
       "\n",
       "    .dataframe tbody tr th {\n",
       "        vertical-align: top;\n",
       "    }\n",
       "\n",
       "    .dataframe thead th {\n",
       "        text-align: right;\n",
       "    }\n",
       "</style>\n",
       "<table border=\"1\" class=\"dataframe\">\n",
       "  <thead>\n",
       "    <tr style=\"text-align: right;\">\n",
       "      <th></th>\n",
       "      <th>loc_id</th>\n",
       "      <th>address</th>\n",
       "      <th>latitude</th>\n",
       "      <th>longitude</th>\n",
       "    </tr>\n",
       "  </thead>\n",
       "  <tbody>\n",
       "    <tr>\n",
       "      <th>0</th>\n",
       "      <td>0</td>\n",
       "      <td>West Kowloon Station, Hong Kong</td>\n",
       "      <td>22.304080</td>\n",
       "      <td>114.166501</td>\n",
       "    </tr>\n",
       "    <tr>\n",
       "      <th>1</th>\n",
       "      <td>1</td>\n",
       "      <td>Block 1, Site 11, Whampoa Garden, Hong Kong</td>\n",
       "      <td>22.305096</td>\n",
       "      <td>114.190610</td>\n",
       "    </tr>\n",
       "    <tr>\n",
       "      <th>2</th>\n",
       "      <td>2</td>\n",
       "      <td>Wah Cheung House, Ching Wah Court, Hong Kong</td>\n",
       "      <td>22.348820</td>\n",
       "      <td>114.101020</td>\n",
       "    </tr>\n",
       "    <tr>\n",
       "      <th>3</th>\n",
       "      <td>3</td>\n",
       "      <td>Tower 2, The Coronation, Hong Kong</td>\n",
       "      <td>22.309601</td>\n",
       "      <td>114.165802</td>\n",
       "    </tr>\n",
       "    <tr>\n",
       "      <th>4</th>\n",
       "      <td>4</td>\n",
       "      <td>Cheung Hong Estate, Hong Mei House, Hong Kong</td>\n",
       "      <td>22.350433</td>\n",
       "      <td>114.099415</td>\n",
       "    </tr>\n",
       "    <tr>\n",
       "      <th>5</th>\n",
       "      <td>5</td>\n",
       "      <td>Four Seasons Hotel Hong Kong, Hong Kong</td>\n",
       "      <td>22.286634</td>\n",
       "      <td>114.156700</td>\n",
       "    </tr>\n",
       "    <tr>\n",
       "      <th>6</th>\n",
       "      <td>6</td>\n",
       "      <td>W Hong Kong, Hong Kong</td>\n",
       "      <td>22.304636</td>\n",
       "      <td>114.160593</td>\n",
       "    </tr>\n",
       "    <tr>\n",
       "      <th>7</th>\n",
       "      <td>7</td>\n",
       "      <td>The Ritz-Carlton, Hong Kong</td>\n",
       "      <td>22.303165</td>\n",
       "      <td>114.160212</td>\n",
       "    </tr>\n",
       "    <tr>\n",
       "      <th>8</th>\n",
       "      <td>8</td>\n",
       "      <td>8/F, Tin Hei House, Tin Ping Estate, Hong Kong</td>\n",
       "      <td>22.503551</td>\n",
       "      <td>114.133889</td>\n",
       "    </tr>\n",
       "    <tr>\n",
       "      <th>9</th>\n",
       "      <td>9</td>\n",
       "      <td>Block 2, Tseung Kwan O Plaza, Hong Kong</td>\n",
       "      <td>22.308929</td>\n",
       "      <td>114.262603</td>\n",
       "    </tr>\n",
       "    <tr>\n",
       "      <th>10</th>\n",
       "      <td>10</td>\n",
       "      <td>Universal Towers, Hong Kong</td>\n",
       "      <td>22.296215</td>\n",
       "      <td>114.171632</td>\n",
       "    </tr>\n",
       "    <tr>\n",
       "      <th>11</th>\n",
       "      <td>11</td>\n",
       "      <td>South Hillcrest, Hong Kong</td>\n",
       "      <td>22.412291</td>\n",
       "      <td>113.983503</td>\n",
       "    </tr>\n",
       "    <tr>\n",
       "      <th>12</th>\n",
       "      <td>12</td>\n",
       "      <td>Tower 1, Lake Silver, Hong Kong</td>\n",
       "      <td>22.428621</td>\n",
       "      <td>114.243974</td>\n",
       "    </tr>\n",
       "    <tr>\n",
       "      <th>13</th>\n",
       "      <td>13</td>\n",
       "      <td>Empire Hotel Kowloon, Tsim Sha Tsui, Hong Kong</td>\n",
       "      <td>22.300866</td>\n",
       "      <td>114.175152</td>\n",
       "    </tr>\n",
       "    <tr>\n",
       "      <th>14</th>\n",
       "      <td>14</td>\n",
       "      <td>Floor 23, Li Po Chun Chambers, Hong Kong</td>\n",
       "      <td>22.286215</td>\n",
       "      <td>114.154002</td>\n",
       "    </tr>\n",
       "    <tr>\n",
       "      <th>15</th>\n",
       "      <td>15</td>\n",
       "      <td>26/F, Tower 1A, Oceanaire, Hong Kong</td>\n",
       "      <td>22.415273</td>\n",
       "      <td>114.223638</td>\n",
       "    </tr>\n",
       "    <tr>\n",
       "      <th>16</th>\n",
       "      <td>16</td>\n",
       "      <td>Alva Hotel by Royal, Hong Kong</td>\n",
       "      <td>22.383572</td>\n",
       "      <td>114.208377</td>\n",
       "    </tr>\n",
       "  </tbody>\n",
       "</table>\n",
       "</div>"
      ],
      "text/plain": [
       "    loc_id                                         address   latitude  \\\n",
       "0        0                 West Kowloon Station, Hong Kong  22.304080   \n",
       "1        1     Block 1, Site 11, Whampoa Garden, Hong Kong  22.305096   \n",
       "2        2    Wah Cheung House, Ching Wah Court, Hong Kong  22.348820   \n",
       "3        3              Tower 2, The Coronation, Hong Kong  22.309601   \n",
       "4        4   Cheung Hong Estate, Hong Mei House, Hong Kong  22.350433   \n",
       "5        5         Four Seasons Hotel Hong Kong, Hong Kong  22.286634   \n",
       "6        6                          W Hong Kong, Hong Kong  22.304636   \n",
       "7        7                     The Ritz-Carlton, Hong Kong  22.303165   \n",
       "8        8  8/F, Tin Hei House, Tin Ping Estate, Hong Kong  22.503551   \n",
       "9        9         Block 2, Tseung Kwan O Plaza, Hong Kong  22.308929   \n",
       "10      10                     Universal Towers, Hong Kong  22.296215   \n",
       "11      11                      South Hillcrest, Hong Kong  22.412291   \n",
       "12      12                 Tower 1, Lake Silver, Hong Kong  22.428621   \n",
       "13      13  Empire Hotel Kowloon, Tsim Sha Tsui, Hong Kong  22.300866   \n",
       "14      14        Floor 23, Li Po Chun Chambers, Hong Kong  22.286215   \n",
       "15      15            26/F, Tower 1A, Oceanaire, Hong Kong  22.415273   \n",
       "16      16                  Alva Hotel by Royal, Hong Kong  22.383572   \n",
       "\n",
       "     longitude  \n",
       "0   114.166501  \n",
       "1   114.190610  \n",
       "2   114.101020  \n",
       "3   114.165802  \n",
       "4   114.099415  \n",
       "5   114.156700  \n",
       "6   114.160593  \n",
       "7   114.160212  \n",
       "8   114.133889  \n",
       "9   114.262603  \n",
       "10  114.171632  \n",
       "11  113.983503  \n",
       "12  114.243974  \n",
       "13  114.175152  \n",
       "14  114.154002  \n",
       "15  114.223638  \n",
       "16  114.208377  "
      ]
     },
     "execution_count": 78,
     "metadata": {},
     "output_type": "execute_result"
    }
   ],
   "source": [
    "coordinates_df"
   ]
  },
  {
   "cell_type": "code",
   "execution_count": 79,
   "metadata": {},
   "outputs": [],
   "source": [
    "with open(r'../assets/coordinates_df.pkl', 'wb') as f:\n",
    "    pickle.dump(coordinates_df,f)"
   ]
  },
  {
   "cell_type": "code",
   "execution_count": 10,
   "metadata": {},
   "outputs": [],
   "source": []
  },
  {
   "cell_type": "markdown",
   "metadata": {},
   "source": [
    "## Simple Visualization using Folium"
   ]
  },
  {
   "cell_type": "code",
   "execution_count": 11,
   "metadata": {},
   "outputs": [],
   "source": [
    "map_hk = folium.Map(location=[hk_latitude, hk_longitude], zoom_start=9, tiles='stamentoner')\n",
    "# folium.TileLayer('stamentoner').add_to(map_hk)\n",
    "\n",
    "for idx, row in coordinates_df.iterrows():\n",
    "    address = row['address']\n",
    "    latitude = row['latitude']\n",
    "    longitude = row['longitude']\n",
    "#     print(latitude)\n",
    "    if not np.isnan(latitude) and not np.isnan(longitude):\n",
    "#         print(f'add {address}')\n",
    "        folium.CircleMarker(\n",
    "            [latitude, longitude],\n",
    "            radius=5,\n",
    "            popup=address,\n",
    "            color='red',\n",
    "            fill=True,\n",
    "            fill_color='#3186cc',\n",
    "            fill_opacity=0.7,\n",
    "            parse_html=False\n",
    "        ).add_to(map_hk)"
   ]
  },
  {
   "cell_type": "code",
   "execution_count": 12,
   "metadata": {},
   "outputs": [
    {
     "data": {
      "text/html": [
       "<div style=\"width:100%;\"><div style=\"position:relative;width:100%;height:0;padding-bottom:60%;\"><iframe src=\"data:text/html;charset=utf-8;base64,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\" style=\"position:absolute;width:100%;height:100%;left:0;top:0;border:none !important;\" allowfullscreen webkitallowfullscreen mozallowfullscreen></iframe></div></div>"
      ],
      "text/plain": [
       "<folium.folium.Map at 0x111785fd0>"
      ]
     },
     "execution_count": 12,
     "metadata": {},
     "output_type": "execute_result"
    }
   ],
   "source": [
    "map_hk"
   ]
  },
  {
   "cell_type": "markdown",
   "metadata": {},
   "source": [
    "## Plotly Visualization"
   ]
  },
  {
   "cell_type": "code",
   "execution_count": 15,
   "metadata": {},
   "outputs": [],
   "source": [
    "\n",
    "with open(r'../assets/.mapbox_token', 'rb') as f:\n",
    "    token = pickle.load(f)"
   ]
  },
  {
   "cell_type": "code",
   "execution_count": 51,
   "metadata": {},
   "outputs": [
    {
     "data": {
      "application/vnd.plotly.v1+json": {
       "config": {
        "plotlyServerURL": "https://plot.ly"
       },
       "data": [
        {
         "hoverlabel": {
          "namelength": 0
         },
         "hovertemplate": "<b>%{hovertext}</b><br><br>size=%{marker.size}<br>latitude=%{lat}<br>longitude=%{lon}",
         "hovertext": [
          "West Kowloon Station, Hong Kong",
          "Block 1, Site 11, Whampoa Garden, Hong Kong",
          "Wah Cheung House, Ching Wah Court, Hong Kong",
          "Tower 2, The Coronation, Hong Kong",
          "Cheung Hong Estate, Hong Mei House, Hong Kong",
          "Four Seasons Hotel Hong Kong, Hong Kong",
          "W Hong Kong, Hong Kong",
          "The Ritz-Carlton, Hong Kong",
          "8/F, Tin Hei House, Tin Ping Estate, Hong Kong",
          "Block 2, Tseung Kwan O Plaza, Hong Kong",
          "Universal Towers, Hong Kong",
          "South Hillcrest, Hong Kong",
          "Tower 1, Lake Silver, Hong Kong",
          "Empire Hotel Kowloon, Tsim Sha Tsui, Hong Kong",
          "Floor 23, Li Po Chun Chambers, Hong Kong",
          "26/F, Tower 1A, Oceanaire, Hong Kong",
          "Alva Hotel by Royal, Hong Kong"
         ],
         "lat": [
          22.30408,
          22.3050958,
          22.34882045,
          22.30960125,
          22.35043255,
          22.286634,
          22.3046362,
          22.3031647,
          22.5035506,
          22.30892915,
          22.296215,
          22.412290650000003,
          22.42862075,
          22.30086585,
          22.28621485,
          22.415272899999998,
          22.383572049999998
         ],
         "legendgroup": "",
         "lon": [
          114.166501,
          114.1906104,
          114.10101986186172,
          114.1658022313385,
          114.09941493781143,
          114.15670007736094,
          114.1605933,
          114.1602124,
          114.1338886,
          114.26260260691501,
          114.17163247574399,
          113.98350325928573,
          114.24397364106841,
          114.17515235300337,
          114.1540021399411,
          114.22363798622936,
          114.20837702798516
         ],
         "marker": {
          "color": "#636efa",
          "size": [
           0.5,
           0.5,
           0.5,
           0.5,
           0.5,
           0.5,
           0.5,
           0.5,
           0.5,
           0.5,
           0.5,
           0.5,
           0.5,
           0.5,
           0.5,
           0.5,
           0.5
          ],
          "sizemode": "area",
          "sizeref": 0.013888888888888888
         },
         "mode": "markers",
         "name": "",
         "showlegend": false,
         "subplot": "mapbox",
         "type": "scattermapbox"
        }
       ],
       "layout": {
        "legend": {
         "itemsizing": "constant",
         "tracegroupgap": 0
        },
        "mapbox": {
         "accesstoken": "pk.eyJ1IjoiYnJpYW5icmlhbjEyMyIsImEiOiJjazYzZDZvb3EwOHRzM2VvYzNpZGU1ZHJyIn0.5zV3WXr1ZQ0DY3F_dQFVLw",
         "center": {
          "lat": 22.34399980882353,
          "lon": 114.16221319403203
         },
         "domain": {
          "x": [
           0,
           1
          ],
          "y": [
           0,
           1
          ]
         },
         "zoom": 9
        },
        "template": {
         "data": {
          "bar": [
           {
            "error_x": {
             "color": "#2a3f5f"
            },
            "error_y": {
             "color": "#2a3f5f"
            },
            "marker": {
             "line": {
              "color": "#E5ECF6",
              "width": 0.5
             }
            },
            "type": "bar"
           }
          ],
          "barpolar": [
           {
            "marker": {
             "line": {
              "color": "#E5ECF6",
              "width": 0.5
             }
            },
            "type": "barpolar"
           }
          ],
          "carpet": [
           {
            "aaxis": {
             "endlinecolor": "#2a3f5f",
             "gridcolor": "white",
             "linecolor": "white",
             "minorgridcolor": "white",
             "startlinecolor": "#2a3f5f"
            },
            "baxis": {
             "endlinecolor": "#2a3f5f",
             "gridcolor": "white",
             "linecolor": "white",
             "minorgridcolor": "white",
             "startlinecolor": "#2a3f5f"
            },
            "type": "carpet"
           }
          ],
          "choropleth": [
           {
            "colorbar": {
             "outlinewidth": 0,
             "ticks": ""
            },
            "type": "choropleth"
           }
          ],
          "contour": [
           {
            "colorbar": {
             "outlinewidth": 0,
             "ticks": ""
            },
            "colorscale": [
             [
              0,
              "#0d0887"
             ],
             [
              0.1111111111111111,
              "#46039f"
             ],
             [
              0.2222222222222222,
              "#7201a8"
             ],
             [
              0.3333333333333333,
              "#9c179e"
             ],
             [
              0.4444444444444444,
              "#bd3786"
             ],
             [
              0.5555555555555556,
              "#d8576b"
             ],
             [
              0.6666666666666666,
              "#ed7953"
             ],
             [
              0.7777777777777778,
              "#fb9f3a"
             ],
             [
              0.8888888888888888,
              "#fdca26"
             ],
             [
              1,
              "#f0f921"
             ]
            ],
            "type": "contour"
           }
          ],
          "contourcarpet": [
           {
            "colorbar": {
             "outlinewidth": 0,
             "ticks": ""
            },
            "type": "contourcarpet"
           }
          ],
          "heatmap": [
           {
            "colorbar": {
             "outlinewidth": 0,
             "ticks": ""
            },
            "colorscale": [
             [
              0,
              "#0d0887"
             ],
             [
              0.1111111111111111,
              "#46039f"
             ],
             [
              0.2222222222222222,
              "#7201a8"
             ],
             [
              0.3333333333333333,
              "#9c179e"
             ],
             [
              0.4444444444444444,
              "#bd3786"
             ],
             [
              0.5555555555555556,
              "#d8576b"
             ],
             [
              0.6666666666666666,
              "#ed7953"
             ],
             [
              0.7777777777777778,
              "#fb9f3a"
             ],
             [
              0.8888888888888888,
              "#fdca26"
             ],
             [
              1,
              "#f0f921"
             ]
            ],
            "type": "heatmap"
           }
          ],
          "heatmapgl": [
           {
            "colorbar": {
             "outlinewidth": 0,
             "ticks": ""
            },
            "colorscale": [
             [
              0,
              "#0d0887"
             ],
             [
              0.1111111111111111,
              "#46039f"
             ],
             [
              0.2222222222222222,
              "#7201a8"
             ],
             [
              0.3333333333333333,
              "#9c179e"
             ],
             [
              0.4444444444444444,
              "#bd3786"
             ],
             [
              0.5555555555555556,
              "#d8576b"
             ],
             [
              0.6666666666666666,
              "#ed7953"
             ],
             [
              0.7777777777777778,
              "#fb9f3a"
             ],
             [
              0.8888888888888888,
              "#fdca26"
             ],
             [
              1,
              "#f0f921"
             ]
            ],
            "type": "heatmapgl"
           }
          ],
          "histogram": [
           {
            "marker": {
             "colorbar": {
              "outlinewidth": 0,
              "ticks": ""
             }
            },
            "type": "histogram"
           }
          ],
          "histogram2d": [
           {
            "colorbar": {
             "outlinewidth": 0,
             "ticks": ""
            },
            "colorscale": [
             [
              0,
              "#0d0887"
             ],
             [
              0.1111111111111111,
              "#46039f"
             ],
             [
              0.2222222222222222,
              "#7201a8"
             ],
             [
              0.3333333333333333,
              "#9c179e"
             ],
             [
              0.4444444444444444,
              "#bd3786"
             ],
             [
              0.5555555555555556,
              "#d8576b"
             ],
             [
              0.6666666666666666,
              "#ed7953"
             ],
             [
              0.7777777777777778,
              "#fb9f3a"
             ],
             [
              0.8888888888888888,
              "#fdca26"
             ],
             [
              1,
              "#f0f921"
             ]
            ],
            "type": "histogram2d"
           }
          ],
          "histogram2dcontour": [
           {
            "colorbar": {
             "outlinewidth": 0,
             "ticks": ""
            },
            "colorscale": [
             [
              0,
              "#0d0887"
             ],
             [
              0.1111111111111111,
              "#46039f"
             ],
             [
              0.2222222222222222,
              "#7201a8"
             ],
             [
              0.3333333333333333,
              "#9c179e"
             ],
             [
              0.4444444444444444,
              "#bd3786"
             ],
             [
              0.5555555555555556,
              "#d8576b"
             ],
             [
              0.6666666666666666,
              "#ed7953"
             ],
             [
              0.7777777777777778,
              "#fb9f3a"
             ],
             [
              0.8888888888888888,
              "#fdca26"
             ],
             [
              1,
              "#f0f921"
             ]
            ],
            "type": "histogram2dcontour"
           }
          ],
          "mesh3d": [
           {
            "colorbar": {
             "outlinewidth": 0,
             "ticks": ""
            },
            "type": "mesh3d"
           }
          ],
          "parcoords": [
           {
            "line": {
             "colorbar": {
              "outlinewidth": 0,
              "ticks": ""
             }
            },
            "type": "parcoords"
           }
          ],
          "pie": [
           {
            "automargin": true,
            "type": "pie"
           }
          ],
          "scatter": [
           {
            "marker": {
             "colorbar": {
              "outlinewidth": 0,
              "ticks": ""
             }
            },
            "type": "scatter"
           }
          ],
          "scatter3d": [
           {
            "line": {
             "colorbar": {
              "outlinewidth": 0,
              "ticks": ""
             }
            },
            "marker": {
             "colorbar": {
              "outlinewidth": 0,
              "ticks": ""
             }
            },
            "type": "scatter3d"
           }
          ],
          "scattercarpet": [
           {
            "marker": {
             "colorbar": {
              "outlinewidth": 0,
              "ticks": ""
             }
            },
            "type": "scattercarpet"
           }
          ],
          "scattergeo": [
           {
            "marker": {
             "colorbar": {
              "outlinewidth": 0,
              "ticks": ""
             }
            },
            "type": "scattergeo"
           }
          ],
          "scattergl": [
           {
            "marker": {
             "colorbar": {
              "outlinewidth": 0,
              "ticks": ""
             }
            },
            "type": "scattergl"
           }
          ],
          "scattermapbox": [
           {
            "marker": {
             "colorbar": {
              "outlinewidth": 0,
              "ticks": ""
             }
            },
            "type": "scattermapbox"
           }
          ],
          "scatterpolar": [
           {
            "marker": {
             "colorbar": {
              "outlinewidth": 0,
              "ticks": ""
             }
            },
            "type": "scatterpolar"
           }
          ],
          "scatterpolargl": [
           {
            "marker": {
             "colorbar": {
              "outlinewidth": 0,
              "ticks": ""
             }
            },
            "type": "scatterpolargl"
           }
          ],
          "scatterternary": [
           {
            "marker": {
             "colorbar": {
              "outlinewidth": 0,
              "ticks": ""
             }
            },
            "type": "scatterternary"
           }
          ],
          "surface": [
           {
            "colorbar": {
             "outlinewidth": 0,
             "ticks": ""
            },
            "colorscale": [
             [
              0,
              "#0d0887"
             ],
             [
              0.1111111111111111,
              "#46039f"
             ],
             [
              0.2222222222222222,
              "#7201a8"
             ],
             [
              0.3333333333333333,
              "#9c179e"
             ],
             [
              0.4444444444444444,
              "#bd3786"
             ],
             [
              0.5555555555555556,
              "#d8576b"
             ],
             [
              0.6666666666666666,
              "#ed7953"
             ],
             [
              0.7777777777777778,
              "#fb9f3a"
             ],
             [
              0.8888888888888888,
              "#fdca26"
             ],
             [
              1,
              "#f0f921"
             ]
            ],
            "type": "surface"
           }
          ],
          "table": [
           {
            "cells": {
             "fill": {
              "color": "#EBF0F8"
             },
             "line": {
              "color": "white"
             }
            },
            "header": {
             "fill": {
              "color": "#C8D4E3"
             },
             "line": {
              "color": "white"
             }
            },
            "type": "table"
           }
          ]
         },
         "layout": {
          "annotationdefaults": {
           "arrowcolor": "#2a3f5f",
           "arrowhead": 0,
           "arrowwidth": 1
          },
          "coloraxis": {
           "colorbar": {
            "outlinewidth": 0,
            "ticks": ""
           }
          },
          "colorscale": {
           "diverging": [
            [
             0,
             "#8e0152"
            ],
            [
             0.1,
             "#c51b7d"
            ],
            [
             0.2,
             "#de77ae"
            ],
            [
             0.3,
             "#f1b6da"
            ],
            [
             0.4,
             "#fde0ef"
            ],
            [
             0.5,
             "#f7f7f7"
            ],
            [
             0.6,
             "#e6f5d0"
            ],
            [
             0.7,
             "#b8e186"
            ],
            [
             0.8,
             "#7fbc41"
            ],
            [
             0.9,
             "#4d9221"
            ],
            [
             1,
             "#276419"
            ]
           ],
           "sequential": [
            [
             0,
             "#0d0887"
            ],
            [
             0.1111111111111111,
             "#46039f"
            ],
            [
             0.2222222222222222,
             "#7201a8"
            ],
            [
             0.3333333333333333,
             "#9c179e"
            ],
            [
             0.4444444444444444,
             "#bd3786"
            ],
            [
             0.5555555555555556,
             "#d8576b"
            ],
            [
             0.6666666666666666,
             "#ed7953"
            ],
            [
             0.7777777777777778,
             "#fb9f3a"
            ],
            [
             0.8888888888888888,
             "#fdca26"
            ],
            [
             1,
             "#f0f921"
            ]
           ],
           "sequentialminus": [
            [
             0,
             "#0d0887"
            ],
            [
             0.1111111111111111,
             "#46039f"
            ],
            [
             0.2222222222222222,
             "#7201a8"
            ],
            [
             0.3333333333333333,
             "#9c179e"
            ],
            [
             0.4444444444444444,
             "#bd3786"
            ],
            [
             0.5555555555555556,
             "#d8576b"
            ],
            [
             0.6666666666666666,
             "#ed7953"
            ],
            [
             0.7777777777777778,
             "#fb9f3a"
            ],
            [
             0.8888888888888888,
             "#fdca26"
            ],
            [
             1,
             "#f0f921"
            ]
           ]
          },
          "colorway": [
           "#636efa",
           "#EF553B",
           "#00cc96",
           "#ab63fa",
           "#FFA15A",
           "#19d3f3",
           "#FF6692",
           "#B6E880",
           "#FF97FF",
           "#FECB52"
          ],
          "font": {
           "color": "#2a3f5f"
          },
          "geo": {
           "bgcolor": "white",
           "lakecolor": "white",
           "landcolor": "#E5ECF6",
           "showlakes": true,
           "showland": true,
           "subunitcolor": "white"
          },
          "hoverlabel": {
           "align": "left"
          },
          "hovermode": "closest",
          "mapbox": {
           "style": "light"
          },
          "paper_bgcolor": "white",
          "plot_bgcolor": "#E5ECF6",
          "polar": {
           "angularaxis": {
            "gridcolor": "white",
            "linecolor": "white",
            "ticks": ""
           },
           "bgcolor": "#E5ECF6",
           "radialaxis": {
            "gridcolor": "white",
            "linecolor": "white",
            "ticks": ""
           }
          },
          "scene": {
           "xaxis": {
            "backgroundcolor": "#E5ECF6",
            "gridcolor": "white",
            "gridwidth": 2,
            "linecolor": "white",
            "showbackground": true,
            "ticks": "",
            "zerolinecolor": "white"
           },
           "yaxis": {
            "backgroundcolor": "#E5ECF6",
            "gridcolor": "white",
            "gridwidth": 2,
            "linecolor": "white",
            "showbackground": true,
            "ticks": "",
            "zerolinecolor": "white"
           },
           "zaxis": {
            "backgroundcolor": "#E5ECF6",
            "gridcolor": "white",
            "gridwidth": 2,
            "linecolor": "white",
            "showbackground": true,
            "ticks": "",
            "zerolinecolor": "white"
           }
          },
          "shapedefaults": {
           "line": {
            "color": "#2a3f5f"
           }
          },
          "ternary": {
           "aaxis": {
            "gridcolor": "white",
            "linecolor": "white",
            "ticks": ""
           },
           "baxis": {
            "gridcolor": "white",
            "linecolor": "white",
            "ticks": ""
           },
           "bgcolor": "#E5ECF6",
           "caxis": {
            "gridcolor": "white",
            "linecolor": "white",
            "ticks": ""
           }
          },
          "title": {
           "x": 0.05
          },
          "xaxis": {
           "automargin": true,
           "gridcolor": "white",
           "linecolor": "white",
           "ticks": "",
           "title": {
            "standoff": 15
           },
           "zerolinecolor": "white",
           "zerolinewidth": 2
          },
          "yaxis": {
           "automargin": true,
           "gridcolor": "white",
           "linecolor": "white",
           "ticks": "",
           "title": {
            "standoff": 15
           },
           "zerolinecolor": "white",
           "zerolinewidth": 2
          }
         }
        },
        "title": {
         "text": "Coronovirus High Risk Areas"
        }
       }
      },
      "text/html": [
       "<div>\n",
       "        \n",
       "        \n",
       "            <div id=\"ed26de02-7bf5-4b9d-bdce-928713fb5213\" class=\"plotly-graph-div\" style=\"height:525px; width:100%;\"></div>\n",
       "            <script type=\"text/javascript\">\n",
       "                require([\"plotly\"], function(Plotly) {\n",
       "                    window.PLOTLYENV=window.PLOTLYENV || {};\n",
       "                    \n",
       "                if (document.getElementById(\"ed26de02-7bf5-4b9d-bdce-928713fb5213\")) {\n",
       "                    Plotly.newPlot(\n",
       "                        'ed26de02-7bf5-4b9d-bdce-928713fb5213',\n",
       "                        [{\"hoverlabel\": {\"namelength\": 0}, \"hovertemplate\": \"<b>%{hovertext}</b><br><br>size=%{marker.size}<br>latitude=%{lat}<br>longitude=%{lon}\", \"hovertext\": [\"West Kowloon Station, Hong Kong\", \"Block 1, Site 11, Whampoa Garden, Hong Kong\", \"Wah Cheung House, Ching Wah Court, Hong Kong\", \"Tower 2, The Coronation, Hong Kong\", \"Cheung Hong Estate, Hong Mei House, Hong Kong\", \"Four Seasons Hotel Hong Kong, Hong Kong\", \"W Hong Kong, Hong Kong\", \"The Ritz-Carlton, Hong Kong\", \"8/F, Tin Hei House, Tin Ping Estate, Hong Kong\", \"Block 2, Tseung Kwan O Plaza, Hong Kong\", \"Universal Towers, Hong Kong\", \"South Hillcrest, Hong Kong\", \"Tower 1, Lake Silver, Hong Kong\", \"Empire Hotel Kowloon, Tsim Sha Tsui, Hong Kong\", \"Floor 23, Li Po Chun Chambers, Hong Kong\", \"26/F, Tower 1A, Oceanaire, Hong Kong\", \"Alva Hotel by Royal, Hong Kong\"], \"lat\": [22.30408, 22.3050958, 22.34882045, 22.30960125, 22.35043255, 22.286634, 22.3046362, 22.3031647, 22.5035506, 22.30892915, 22.296215, 22.412290650000003, 22.42862075, 22.30086585, 22.28621485, 22.415272899999998, 22.383572049999998], \"legendgroup\": \"\", \"lon\": [114.166501, 114.1906104, 114.10101986186172, 114.1658022313385, 114.09941493781143, 114.15670007736094, 114.1605933, 114.1602124, 114.1338886, 114.26260260691501, 114.17163247574399, 113.98350325928573, 114.24397364106841, 114.17515235300337, 114.1540021399411, 114.22363798622936, 114.20837702798516], \"marker\": {\"color\": \"#636efa\", \"size\": [0.5, 0.5, 0.5, 0.5, 0.5, 0.5, 0.5, 0.5, 0.5, 0.5, 0.5, 0.5, 0.5, 0.5, 0.5, 0.5, 0.5], \"sizemode\": \"area\", \"sizeref\": 0.013888888888888888}, \"mode\": \"markers\", \"name\": \"\", \"showlegend\": false, \"subplot\": \"mapbox\", \"type\": \"scattermapbox\"}],\n",
       "                        {\"legend\": {\"itemsizing\": \"constant\", \"tracegroupgap\": 0}, \"mapbox\": {\"accesstoken\": \"pk.eyJ1IjoiYnJpYW5icmlhbjEyMyIsImEiOiJjazYzZDZvb3EwOHRzM2VvYzNpZGU1ZHJyIn0.5zV3WXr1ZQ0DY3F_dQFVLw\", \"center\": {\"lat\": 22.34399980882353, \"lon\": 114.16221319403203}, \"domain\": {\"x\": [0.0, 1.0], \"y\": [0.0, 1.0]}, \"zoom\": 9}, \"template\": {\"data\": {\"bar\": [{\"error_x\": {\"color\": \"#2a3f5f\"}, \"error_y\": {\"color\": \"#2a3f5f\"}, \"marker\": {\"line\": {\"color\": \"#E5ECF6\", \"width\": 0.5}}, \"type\": \"bar\"}], \"barpolar\": [{\"marker\": {\"line\": {\"color\": \"#E5ECF6\", \"width\": 0.5}}, \"type\": \"barpolar\"}], \"carpet\": [{\"aaxis\": {\"endlinecolor\": \"#2a3f5f\", \"gridcolor\": \"white\", \"linecolor\": \"white\", \"minorgridcolor\": \"white\", \"startlinecolor\": \"#2a3f5f\"}, \"baxis\": {\"endlinecolor\": \"#2a3f5f\", \"gridcolor\": \"white\", \"linecolor\": \"white\", \"minorgridcolor\": \"white\", \"startlinecolor\": \"#2a3f5f\"}, \"type\": \"carpet\"}], \"choropleth\": [{\"colorbar\": {\"outlinewidth\": 0, \"ticks\": \"\"}, \"type\": \"choropleth\"}], \"contour\": [{\"colorbar\": {\"outlinewidth\": 0, \"ticks\": \"\"}, \"colorscale\": [[0.0, \"#0d0887\"], [0.1111111111111111, \"#46039f\"], [0.2222222222222222, \"#7201a8\"], [0.3333333333333333, \"#9c179e\"], [0.4444444444444444, \"#bd3786\"], [0.5555555555555556, \"#d8576b\"], [0.6666666666666666, \"#ed7953\"], [0.7777777777777778, \"#fb9f3a\"], [0.8888888888888888, \"#fdca26\"], [1.0, \"#f0f921\"]], \"type\": \"contour\"}], \"contourcarpet\": [{\"colorbar\": {\"outlinewidth\": 0, \"ticks\": \"\"}, \"type\": \"contourcarpet\"}], \"heatmap\": [{\"colorbar\": {\"outlinewidth\": 0, \"ticks\": \"\"}, \"colorscale\": [[0.0, \"#0d0887\"], [0.1111111111111111, \"#46039f\"], [0.2222222222222222, \"#7201a8\"], [0.3333333333333333, \"#9c179e\"], [0.4444444444444444, \"#bd3786\"], [0.5555555555555556, \"#d8576b\"], [0.6666666666666666, \"#ed7953\"], [0.7777777777777778, \"#fb9f3a\"], [0.8888888888888888, \"#fdca26\"], [1.0, \"#f0f921\"]], \"type\": \"heatmap\"}], \"heatmapgl\": [{\"colorbar\": {\"outlinewidth\": 0, \"ticks\": \"\"}, \"colorscale\": [[0.0, \"#0d0887\"], [0.1111111111111111, \"#46039f\"], [0.2222222222222222, \"#7201a8\"], [0.3333333333333333, \"#9c179e\"], [0.4444444444444444, \"#bd3786\"], [0.5555555555555556, \"#d8576b\"], [0.6666666666666666, \"#ed7953\"], [0.7777777777777778, \"#fb9f3a\"], [0.8888888888888888, \"#fdca26\"], [1.0, \"#f0f921\"]], \"type\": \"heatmapgl\"}], \"histogram\": [{\"marker\": {\"colorbar\": {\"outlinewidth\": 0, \"ticks\": \"\"}}, \"type\": \"histogram\"}], \"histogram2d\": [{\"colorbar\": {\"outlinewidth\": 0, \"ticks\": \"\"}, \"colorscale\": [[0.0, \"#0d0887\"], [0.1111111111111111, \"#46039f\"], [0.2222222222222222, \"#7201a8\"], [0.3333333333333333, \"#9c179e\"], [0.4444444444444444, \"#bd3786\"], [0.5555555555555556, \"#d8576b\"], [0.6666666666666666, \"#ed7953\"], [0.7777777777777778, \"#fb9f3a\"], [0.8888888888888888, \"#fdca26\"], [1.0, \"#f0f921\"]], \"type\": \"histogram2d\"}], \"histogram2dcontour\": [{\"colorbar\": {\"outlinewidth\": 0, \"ticks\": \"\"}, \"colorscale\": [[0.0, \"#0d0887\"], [0.1111111111111111, \"#46039f\"], [0.2222222222222222, \"#7201a8\"], [0.3333333333333333, \"#9c179e\"], [0.4444444444444444, \"#bd3786\"], [0.5555555555555556, \"#d8576b\"], [0.6666666666666666, \"#ed7953\"], [0.7777777777777778, \"#fb9f3a\"], [0.8888888888888888, \"#fdca26\"], [1.0, \"#f0f921\"]], \"type\": \"histogram2dcontour\"}], \"mesh3d\": [{\"colorbar\": {\"outlinewidth\": 0, \"ticks\": \"\"}, \"type\": \"mesh3d\"}], \"parcoords\": [{\"line\": {\"colorbar\": {\"outlinewidth\": 0, \"ticks\": \"\"}}, \"type\": \"parcoords\"}], \"pie\": [{\"automargin\": true, \"type\": \"pie\"}], \"scatter\": [{\"marker\": {\"colorbar\": {\"outlinewidth\": 0, \"ticks\": \"\"}}, \"type\": \"scatter\"}], \"scatter3d\": [{\"line\": {\"colorbar\": {\"outlinewidth\": 0, \"ticks\": \"\"}}, \"marker\": {\"colorbar\": {\"outlinewidth\": 0, \"ticks\": \"\"}}, \"type\": \"scatter3d\"}], \"scattercarpet\": [{\"marker\": {\"colorbar\": {\"outlinewidth\": 0, \"ticks\": \"\"}}, \"type\": \"scattercarpet\"}], \"scattergeo\": [{\"marker\": {\"colorbar\": {\"outlinewidth\": 0, \"ticks\": \"\"}}, \"type\": \"scattergeo\"}], \"scattergl\": [{\"marker\": {\"colorbar\": {\"outlinewidth\": 0, \"ticks\": \"\"}}, \"type\": \"scattergl\"}], \"scattermapbox\": [{\"marker\": {\"colorbar\": {\"outlinewidth\": 0, \"ticks\": \"\"}}, \"type\": \"scattermapbox\"}], \"scatterpolar\": [{\"marker\": {\"colorbar\": {\"outlinewidth\": 0, \"ticks\": \"\"}}, \"type\": \"scatterpolar\"}], \"scatterpolargl\": [{\"marker\": {\"colorbar\": {\"outlinewidth\": 0, \"ticks\": \"\"}}, \"type\": \"scatterpolargl\"}], \"scatterternary\": [{\"marker\": {\"colorbar\": {\"outlinewidth\": 0, \"ticks\": \"\"}}, \"type\": \"scatterternary\"}], \"surface\": [{\"colorbar\": {\"outlinewidth\": 0, \"ticks\": \"\"}, \"colorscale\": [[0.0, \"#0d0887\"], [0.1111111111111111, \"#46039f\"], [0.2222222222222222, \"#7201a8\"], [0.3333333333333333, \"#9c179e\"], [0.4444444444444444, \"#bd3786\"], [0.5555555555555556, \"#d8576b\"], [0.6666666666666666, \"#ed7953\"], [0.7777777777777778, \"#fb9f3a\"], [0.8888888888888888, \"#fdca26\"], [1.0, \"#f0f921\"]], \"type\": \"surface\"}], \"table\": [{\"cells\": {\"fill\": {\"color\": \"#EBF0F8\"}, \"line\": {\"color\": \"white\"}}, \"header\": {\"fill\": {\"color\": \"#C8D4E3\"}, \"line\": {\"color\": \"white\"}}, \"type\": \"table\"}]}, \"layout\": {\"annotationdefaults\": {\"arrowcolor\": \"#2a3f5f\", \"arrowhead\": 0, \"arrowwidth\": 1}, \"coloraxis\": {\"colorbar\": {\"outlinewidth\": 0, \"ticks\": \"\"}}, \"colorscale\": {\"diverging\": [[0, \"#8e0152\"], [0.1, \"#c51b7d\"], [0.2, \"#de77ae\"], [0.3, \"#f1b6da\"], [0.4, \"#fde0ef\"], [0.5, \"#f7f7f7\"], [0.6, \"#e6f5d0\"], [0.7, \"#b8e186\"], [0.8, \"#7fbc41\"], [0.9, \"#4d9221\"], [1, \"#276419\"]], \"sequential\": [[0.0, \"#0d0887\"], [0.1111111111111111, \"#46039f\"], [0.2222222222222222, \"#7201a8\"], [0.3333333333333333, \"#9c179e\"], [0.4444444444444444, \"#bd3786\"], [0.5555555555555556, \"#d8576b\"], [0.6666666666666666, \"#ed7953\"], [0.7777777777777778, \"#fb9f3a\"], [0.8888888888888888, \"#fdca26\"], [1.0, \"#f0f921\"]], \"sequentialminus\": [[0.0, \"#0d0887\"], [0.1111111111111111, \"#46039f\"], [0.2222222222222222, \"#7201a8\"], [0.3333333333333333, \"#9c179e\"], [0.4444444444444444, \"#bd3786\"], [0.5555555555555556, \"#d8576b\"], [0.6666666666666666, \"#ed7953\"], [0.7777777777777778, \"#fb9f3a\"], [0.8888888888888888, \"#fdca26\"], [1.0, \"#f0f921\"]]}, \"colorway\": [\"#636efa\", \"#EF553B\", \"#00cc96\", \"#ab63fa\", \"#FFA15A\", \"#19d3f3\", \"#FF6692\", \"#B6E880\", \"#FF97FF\", \"#FECB52\"], \"font\": {\"color\": \"#2a3f5f\"}, \"geo\": {\"bgcolor\": \"white\", \"lakecolor\": \"white\", \"landcolor\": \"#E5ECF6\", \"showlakes\": true, \"showland\": true, \"subunitcolor\": \"white\"}, \"hoverlabel\": {\"align\": \"left\"}, \"hovermode\": \"closest\", \"mapbox\": {\"style\": \"light\"}, \"paper_bgcolor\": \"white\", \"plot_bgcolor\": \"#E5ECF6\", \"polar\": {\"angularaxis\": {\"gridcolor\": \"white\", \"linecolor\": \"white\", \"ticks\": \"\"}, \"bgcolor\": \"#E5ECF6\", \"radialaxis\": {\"gridcolor\": \"white\", \"linecolor\": \"white\", \"ticks\": \"\"}}, \"scene\": {\"xaxis\": {\"backgroundcolor\": \"#E5ECF6\", \"gridcolor\": \"white\", \"gridwidth\": 2, \"linecolor\": \"white\", \"showbackground\": true, \"ticks\": \"\", \"zerolinecolor\": \"white\"}, \"yaxis\": {\"backgroundcolor\": \"#E5ECF6\", \"gridcolor\": \"white\", \"gridwidth\": 2, \"linecolor\": \"white\", \"showbackground\": true, \"ticks\": \"\", \"zerolinecolor\": \"white\"}, \"zaxis\": {\"backgroundcolor\": \"#E5ECF6\", \"gridcolor\": \"white\", \"gridwidth\": 2, \"linecolor\": \"white\", \"showbackground\": true, \"ticks\": \"\", \"zerolinecolor\": \"white\"}}, \"shapedefaults\": {\"line\": {\"color\": \"#2a3f5f\"}}, \"ternary\": {\"aaxis\": {\"gridcolor\": \"white\", \"linecolor\": \"white\", \"ticks\": \"\"}, \"baxis\": {\"gridcolor\": \"white\", \"linecolor\": \"white\", \"ticks\": \"\"}, \"bgcolor\": \"#E5ECF6\", \"caxis\": {\"gridcolor\": \"white\", \"linecolor\": \"white\", \"ticks\": \"\"}}, \"title\": {\"x\": 0.05}, \"xaxis\": {\"automargin\": true, \"gridcolor\": \"white\", \"linecolor\": \"white\", \"ticks\": \"\", \"title\": {\"standoff\": 15}, \"zerolinecolor\": \"white\", \"zerolinewidth\": 2}, \"yaxis\": {\"automargin\": true, \"gridcolor\": \"white\", \"linecolor\": \"white\", \"ticks\": \"\", \"title\": {\"standoff\": 15}, \"zerolinecolor\": \"white\", \"zerolinewidth\": 2}}}, \"title\": {\"text\": \"Coronovirus High Risk Areas\"}},\n",
       "                        {\"responsive\": true}\n",
       "                    ).then(function(){\n",
       "                            \n",
       "var gd = document.getElementById('ed26de02-7bf5-4b9d-bdce-928713fb5213');\n",
       "var x = new MutationObserver(function (mutations, observer) {{\n",
       "        var display = window.getComputedStyle(gd).display;\n",
       "        if (!display || display === 'none') {{\n",
       "            console.log([gd, 'removed!']);\n",
       "            Plotly.purge(gd);\n",
       "            observer.disconnect();\n",
       "        }}\n",
       "}});\n",
       "\n",
       "// Listen for the removal of the full notebook cells\n",
       "var notebookContainer = gd.closest('#notebook-container');\n",
       "if (notebookContainer) {{\n",
       "    x.observe(notebookContainer, {childList: true});\n",
       "}}\n",
       "\n",
       "// Listen for the clearing of the current output cell\n",
       "var outputEl = gd.closest('.output');\n",
       "if (outputEl) {{\n",
       "    x.observe(outputEl, {childList: true});\n",
       "}}\n",
       "\n",
       "                        })\n",
       "                };\n",
       "                });\n",
       "            </script>\n",
       "        </div>"
      ]
     },
     "metadata": {},
     "output_type": "display_data"
    }
   ],
   "source": [
    "import plotly.express as px\n",
    "px.set_mapbox_access_token(token)\n",
    "fig = px.scatter_mapbox(\n",
    "    coordinates_df, \n",
    "    lat=\"latitude\", \n",
    "    lon=\"longitude\",     \n",
    "#     color=[\"red\"]*coordinates_df.shape[0], \n",
    "    size=np.array([0.5]*coordinates_df.shape[0]),\n",
    "    size_max=6,\n",
    "#     text='address',\n",
    "    hover_name = 'address',\n",
    "    zoom=9,\n",
    "    title=r'Coronovirus High Risk Areas')\n",
    "fig.show()"
   ]
  },
  {
   "cell_type": "code",
   "execution_count": 47,
   "metadata": {},
   "outputs": [
    {
     "data": {
      "text/html": [
       "<div>\n",
       "<style scoped>\n",
       "    .dataframe tbody tr th:only-of-type {\n",
       "        vertical-align: middle;\n",
       "    }\n",
       "\n",
       "    .dataframe tbody tr th {\n",
       "        vertical-align: top;\n",
       "    }\n",
       "\n",
       "    .dataframe thead th {\n",
       "        text-align: right;\n",
       "    }\n",
       "</style>\n",
       "<table border=\"1\" class=\"dataframe\">\n",
       "  <thead>\n",
       "    <tr style=\"text-align: right;\">\n",
       "      <th></th>\n",
       "      <th>centroid_lat</th>\n",
       "      <th>centroid_lon</th>\n",
       "      <th>car_hours</th>\n",
       "      <th>peak_hour</th>\n",
       "    </tr>\n",
       "  </thead>\n",
       "  <tbody>\n",
       "    <tr>\n",
       "      <th>0</th>\n",
       "      <td>45.471549</td>\n",
       "      <td>-73.588684</td>\n",
       "      <td>1772.750000</td>\n",
       "      <td>2</td>\n",
       "    </tr>\n",
       "    <tr>\n",
       "      <th>1</th>\n",
       "      <td>45.543865</td>\n",
       "      <td>-73.562456</td>\n",
       "      <td>986.333333</td>\n",
       "      <td>23</td>\n",
       "    </tr>\n",
       "    <tr>\n",
       "      <th>2</th>\n",
       "      <td>45.487640</td>\n",
       "      <td>-73.642767</td>\n",
       "      <td>354.750000</td>\n",
       "      <td>20</td>\n",
       "    </tr>\n",
       "    <tr>\n",
       "      <th>3</th>\n",
       "      <td>45.522870</td>\n",
       "      <td>-73.595677</td>\n",
       "      <td>560.166667</td>\n",
       "      <td>23</td>\n",
       "    </tr>\n",
       "    <tr>\n",
       "      <th>4</th>\n",
       "      <td>45.453971</td>\n",
       "      <td>-73.738946</td>\n",
       "      <td>2836.666667</td>\n",
       "      <td>19</td>\n",
       "    </tr>\n",
       "    <tr>\n",
       "      <th>...</th>\n",
       "      <td>...</td>\n",
       "      <td>...</td>\n",
       "      <td>...</td>\n",
       "      <td>...</td>\n",
       "    </tr>\n",
       "    <tr>\n",
       "      <th>244</th>\n",
       "      <td>45.547171</td>\n",
       "      <td>-73.556258</td>\n",
       "      <td>951.416667</td>\n",
       "      <td>3</td>\n",
       "    </tr>\n",
       "    <tr>\n",
       "      <th>245</th>\n",
       "      <td>45.546482</td>\n",
       "      <td>-73.574939</td>\n",
       "      <td>795.416667</td>\n",
       "      <td>2</td>\n",
       "    </tr>\n",
       "    <tr>\n",
       "      <th>246</th>\n",
       "      <td>45.495523</td>\n",
       "      <td>-73.627725</td>\n",
       "      <td>425.750000</td>\n",
       "      <td>8</td>\n",
       "    </tr>\n",
       "    <tr>\n",
       "      <th>247</th>\n",
       "      <td>45.521199</td>\n",
       "      <td>-73.581789</td>\n",
       "      <td>1044.833333</td>\n",
       "      <td>17</td>\n",
       "    </tr>\n",
       "    <tr>\n",
       "      <th>248</th>\n",
       "      <td>45.532564</td>\n",
       "      <td>-73.567535</td>\n",
       "      <td>694.916667</td>\n",
       "      <td>5</td>\n",
       "    </tr>\n",
       "  </tbody>\n",
       "</table>\n",
       "<p>249 rows × 4 columns</p>\n",
       "</div>"
      ],
      "text/plain": [
       "     centroid_lat  centroid_lon    car_hours  peak_hour\n",
       "0       45.471549    -73.588684  1772.750000          2\n",
       "1       45.543865    -73.562456   986.333333         23\n",
       "2       45.487640    -73.642767   354.750000         20\n",
       "3       45.522870    -73.595677   560.166667         23\n",
       "4       45.453971    -73.738946  2836.666667         19\n",
       "..            ...           ...          ...        ...\n",
       "244     45.547171    -73.556258   951.416667          3\n",
       "245     45.546482    -73.574939   795.416667          2\n",
       "246     45.495523    -73.627725   425.750000          8\n",
       "247     45.521199    -73.581789  1044.833333         17\n",
       "248     45.532564    -73.567535   694.916667          5\n",
       "\n",
       "[249 rows x 4 columns]"
      ]
     },
     "execution_count": 47,
     "metadata": {},
     "output_type": "execute_result"
    }
   ],
   "source": [
    "df"
   ]
  },
  {
   "cell_type": "code",
   "execution_count": null,
   "metadata": {},
   "outputs": [],
   "source": []
  }
 ],
 "metadata": {
  "kernelspec": {
   "display_name": ".venv",
   "language": "python",
   "name": ".venv"
  },
  "language_info": {
   "codemirror_mode": {
    "name": "ipython",
    "version": 3
   },
   "file_extension": ".py",
   "mimetype": "text/x-python",
   "name": "python",
   "nbconvert_exporter": "python",
   "pygments_lexer": "ipython3",
   "version": "3.6.4"
  },
  "toc": {
   "base_numbering": 1,
   "nav_menu": {},
   "number_sections": true,
   "sideBar": true,
   "skip_h1_title": false,
   "title_cell": "Table of Contents",
   "title_sidebar": "Contents",
   "toc_cell": false,
   "toc_position": {},
   "toc_section_display": true,
   "toc_window_display": false
  }
 },
 "nbformat": 4,
 "nbformat_minor": 4
}
