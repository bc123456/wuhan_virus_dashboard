{
 "cells": [
  {
   "cell_type": "code",
   "execution_count": 36,
   "metadata": {},
   "outputs": [],
   "source": [
    "import requests\n",
    "import pandas as pd\n",
    "from bs4 import BeautifulSoup\n",
    "from geopy.geocoders import Nominatim, GoogleV3\n",
    "import numpy as np\n",
    "# from googlemaps import GoogleMaps\n",
    "import time\n",
    "import folium\n",
    "import pickle"
   ]
  },
  {
   "cell_type": "code",
   "execution_count": 37,
   "metadata": {},
   "outputs": [],
   "source": [
    "url = r'https://wars.vote4.hk/en/high-risk'\n",
    "hk_latitude, hk_longitude = 22.2793278, 114.1628131\n",
    "page = requests.get(url)\n",
    "soup = BeautifulSoup(page.content, 'html.parser')"
   ]
  },
  {
   "cell_type": "code",
   "execution_count": 38,
   "metadata": {},
   "outputs": [],
   "source": [
    "html_addresses = soup.find_all(\n",
    "    'span', \n",
    "    class_=r'MuiTypography-root MuiTypography-h6 MuiTypography-colorTextPrimary'\n",
    ")\n",
    "\n",
    "# html_descriptions = soup.find_all(\n",
    "#     'div',\n",
    "#     class_=r'MuiBox-root jss572 high-risk__HighRiskCard-o7qs9y-0 gdBVup'\n",
    "# )\n",
    "\n"
   ]
  },
  {
   "cell_type": "code",
   "execution_count": 39,
   "metadata": {},
   "outputs": [],
   "source": [
    "high_risk_addresses = [job_elem.text + ', Hong Kong' for job_elem in html_addresses]\n",
    "# high_risk_descriptions = [job_elem.text for job_elem in html_descriptions]"
   ]
  },
  {
   "cell_type": "code",
   "execution_count": 40,
   "metadata": {},
   "outputs": [
    {
     "data": {
      "text/plain": [
       "['West Kowloon Station, Hong Kong',\n",
       " 'Luk Kwai House Kwai Chung Estate, Hong Kong',\n",
       " 'Lo Wu Customs Checkpoint, Hong Kong',\n",
       " 'Kai Tak Cruise Terminal, Hong Kong',\n",
       " '\"Enhanted Princess\" Cruise, Hong Kong',\n",
       " 'Block 1, Site 11, Whampoa Garden, Hong Kong',\n",
       " 'Wah Cheung House, Ching Wah Court, Hong Kong',\n",
       " 'Tower 2, The Coronation, Hong Kong',\n",
       " 'Cheung Hong Estate, Hong Mei House, Hong Kong',\n",
       " 'Four Seasons Hotel Hong Kong, Hong Kong',\n",
       " 'W Hong Kong, Hong Kong',\n",
       " 'The Ritz-Carlton, Hong Kong',\n",
       " '8/F, Tin Hei House, Tin Ping Estate, Hong Kong',\n",
       " 'Block 2, Tseung Kwan O Plaza, Hong Kong',\n",
       " 'Universal Towers, Hong Kong',\n",
       " 'South Hillcrest, Hong Kong',\n",
       " 'Tower 1, Lake Silver, Hong Kong',\n",
       " 'Empire Hotel Kowloon, Tsim Sha Tsui, Hong Kong',\n",
       " 'Floor 23, Li Po Chun Chambers, Hong Kong',\n",
       " '26/F, Tower 1A, Oceanaire, Hong Kong',\n",
       " 'Alva Hotel by Royal, Hong Kong']"
      ]
     },
     "execution_count": 40,
     "metadata": {},
     "output_type": "execute_result"
    }
   ],
   "source": [
    "high_risk_addresses"
   ]
  },
  {
   "cell_type": "code",
   "execution_count": 41,
   "metadata": {},
   "outputs": [],
   "source": [
    "with open(r'../assets/coordinates_df.pkl', 'rb') as f:\n",
    "    coordinates_df = pickle.load(f)"
   ]
  },
  {
   "cell_type": "code",
   "execution_count": 42,
   "metadata": {},
   "outputs": [],
   "source": [
    "def pop_address(address):\n",
    "    address_lst = address.split(',')\n",
    "    return ','.join(address_lst[1:])\n",
    "    \n",
    "def get_coordinates(address):\n",
    "    trial0 = 0\n",
    "    trial1 = 0\n",
    "    trial2 = 0\n",
    "    location = None\n",
    "    geolocator = Nominatim(user_agent='hk_explorer')\n",
    "    while location is None and trial0 < 5:\n",
    "        trial0 += 1\n",
    "        try:\n",
    "            location = geolocator.geocode(address)\n",
    "        except:\n",
    "            pass\n",
    "        time.sleep(1)\n",
    "    if location is None:\n",
    "        simplified_address1 = pop_address(address)\n",
    "        while location is None and trial1 < 5:\n",
    "            trial1 += 1\n",
    "            try:\n",
    "                location = geolocator.geocode(simplified_address1)\n",
    "            except:\n",
    "                pass\n",
    "            time.sleep(1)\n",
    "    if location is None:\n",
    "        simplified_address2 = pop_address(simplified_address1)\n",
    "        while location is None and trial2 < 5:\n",
    "            trial2 += 1\n",
    "            try:\n",
    "                location = geolocator.geocode(simplified_address2)\n",
    "            except:\n",
    "                pass\n",
    "            time.sleep(1)\n",
    "    if location:\n",
    "        return (location.latitude, location.longitude)\n",
    "    else:\n",
    "        return None, None"
   ]
  },
  {
   "cell_type": "code",
   "execution_count": 43,
   "metadata": {},
   "outputs": [],
   "source": [
    "for address in high_risk_addresses:\n",
    "    if address in coordinates_df['address'].values:\n",
    "        pass\n",
    "    else:\n",
    "        latitude, longitude = get_coordinates(address)\n",
    "        coordinates_df = coordinates_df.append(\n",
    "            pd.Series({\n",
    "                'loc_id': coordinates_df['loc_id'].max() + 1,\n",
    "                'address': address,\n",
    "                'latitude': latitude,\n",
    "                'longitude': longitude\n",
    "            }),\n",
    "            ignore_index=True\n",
    "        )"
   ]
  },
  {
   "cell_type": "code",
   "execution_count": 50,
   "metadata": {},
   "outputs": [
    {
     "data": {
      "text/html": [
       "<div>\n",
       "<style scoped>\n",
       "    .dataframe tbody tr th:only-of-type {\n",
       "        vertical-align: middle;\n",
       "    }\n",
       "\n",
       "    .dataframe tbody tr th {\n",
       "        vertical-align: top;\n",
       "    }\n",
       "\n",
       "    .dataframe thead th {\n",
       "        text-align: right;\n",
       "    }\n",
       "</style>\n",
       "<table border=\"1\" class=\"dataframe\">\n",
       "  <thead>\n",
       "    <tr style=\"text-align: right;\">\n",
       "      <th></th>\n",
       "      <th>loc_id</th>\n",
       "      <th>address</th>\n",
       "      <th>latitude</th>\n",
       "      <th>longitude</th>\n",
       "    </tr>\n",
       "  </thead>\n",
       "  <tbody>\n",
       "    <tr>\n",
       "      <th>0</th>\n",
       "      <td>0</td>\n",
       "      <td>West Kowloon Station, Hong Kong</td>\n",
       "      <td>22.304080</td>\n",
       "      <td>114.166501</td>\n",
       "    </tr>\n",
       "    <tr>\n",
       "      <th>1</th>\n",
       "      <td>1</td>\n",
       "      <td>Block 1, Site 11, Whampoa Garden, Hong Kong</td>\n",
       "      <td>22.305096</td>\n",
       "      <td>114.190610</td>\n",
       "    </tr>\n",
       "    <tr>\n",
       "      <th>2</th>\n",
       "      <td>2</td>\n",
       "      <td>Wah Cheung House, Ching Wah Court, Hong Kong</td>\n",
       "      <td>22.348820</td>\n",
       "      <td>114.101020</td>\n",
       "    </tr>\n",
       "    <tr>\n",
       "      <th>3</th>\n",
       "      <td>3</td>\n",
       "      <td>Tower 2, The Coronation, Hong Kong</td>\n",
       "      <td>22.309601</td>\n",
       "      <td>114.165802</td>\n",
       "    </tr>\n",
       "    <tr>\n",
       "      <th>4</th>\n",
       "      <td>4</td>\n",
       "      <td>Cheung Hong Estate, Hong Mei House, Hong Kong</td>\n",
       "      <td>22.350433</td>\n",
       "      <td>114.099415</td>\n",
       "    </tr>\n",
       "    <tr>\n",
       "      <th>5</th>\n",
       "      <td>5</td>\n",
       "      <td>Four Seasons Hotel Hong Kong, Hong Kong</td>\n",
       "      <td>22.286634</td>\n",
       "      <td>114.156700</td>\n",
       "    </tr>\n",
       "    <tr>\n",
       "      <th>6</th>\n",
       "      <td>6</td>\n",
       "      <td>W Hong Kong, Hong Kong</td>\n",
       "      <td>22.304636</td>\n",
       "      <td>114.160593</td>\n",
       "    </tr>\n",
       "    <tr>\n",
       "      <th>7</th>\n",
       "      <td>7</td>\n",
       "      <td>The Ritz-Carlton, Hong Kong</td>\n",
       "      <td>22.303165</td>\n",
       "      <td>114.160212</td>\n",
       "    </tr>\n",
       "    <tr>\n",
       "      <th>8</th>\n",
       "      <td>8</td>\n",
       "      <td>8/F, Tin Hei House, Tin Ping Estate, Hong Kong</td>\n",
       "      <td>22.503551</td>\n",
       "      <td>114.133889</td>\n",
       "    </tr>\n",
       "    <tr>\n",
       "      <th>9</th>\n",
       "      <td>9</td>\n",
       "      <td>Block 2, Tseung Kwan O Plaza, Hong Kong</td>\n",
       "      <td>22.308929</td>\n",
       "      <td>114.262603</td>\n",
       "    </tr>\n",
       "    <tr>\n",
       "      <th>10</th>\n",
       "      <td>10</td>\n",
       "      <td>Universal Towers, Hong Kong</td>\n",
       "      <td>22.296215</td>\n",
       "      <td>114.171632</td>\n",
       "    </tr>\n",
       "    <tr>\n",
       "      <th>11</th>\n",
       "      <td>11</td>\n",
       "      <td>South Hillcrest, Hong Kong</td>\n",
       "      <td>22.412291</td>\n",
       "      <td>113.983503</td>\n",
       "    </tr>\n",
       "    <tr>\n",
       "      <th>12</th>\n",
       "      <td>12</td>\n",
       "      <td>Tower 1, Lake Silver, Hong Kong</td>\n",
       "      <td>22.428621</td>\n",
       "      <td>114.243974</td>\n",
       "    </tr>\n",
       "    <tr>\n",
       "      <th>13</th>\n",
       "      <td>13</td>\n",
       "      <td>Empire Hotel Kowloon, Tsim Sha Tsui, Hong Kong</td>\n",
       "      <td>22.300866</td>\n",
       "      <td>114.175152</td>\n",
       "    </tr>\n",
       "    <tr>\n",
       "      <th>14</th>\n",
       "      <td>14</td>\n",
       "      <td>Floor 23, Li Po Chun Chambers, Hong Kong</td>\n",
       "      <td>22.286215</td>\n",
       "      <td>114.154002</td>\n",
       "    </tr>\n",
       "    <tr>\n",
       "      <th>15</th>\n",
       "      <td>15</td>\n",
       "      <td>26/F, Tower 1A, Oceanaire, Hong Kong</td>\n",
       "      <td>22.415273</td>\n",
       "      <td>114.223638</td>\n",
       "    </tr>\n",
       "    <tr>\n",
       "      <th>16</th>\n",
       "      <td>16</td>\n",
       "      <td>Alva Hotel by Royal, Hong Kong</td>\n",
       "      <td>22.383572</td>\n",
       "      <td>114.208377</td>\n",
       "    </tr>\n",
       "    <tr>\n",
       "      <th>17</th>\n",
       "      <td>17</td>\n",
       "      <td>Luk Kwai House Kwai Chung Estate, Hong Kong</td>\n",
       "      <td>22.368088</td>\n",
       "      <td>114.128424</td>\n",
       "    </tr>\n",
       "    <tr>\n",
       "      <th>18</th>\n",
       "      <td>18</td>\n",
       "      <td>Lo Wu Customs Checkpoint, Hong Kong</td>\n",
       "      <td>22.279328</td>\n",
       "      <td>114.162813</td>\n",
       "    </tr>\n",
       "    <tr>\n",
       "      <th>19</th>\n",
       "      <td>19</td>\n",
       "      <td>Kai Tak Cruise Terminal, Hong Kong</td>\n",
       "      <td>22.307013</td>\n",
       "      <td>114.212063</td>\n",
       "    </tr>\n",
       "    <tr>\n",
       "      <th>20</th>\n",
       "      <td>20</td>\n",
       "      <td>\"Enhanted Princess\" Cruise, Hong Kong</td>\n",
       "      <td>22.279328</td>\n",
       "      <td>114.162813</td>\n",
       "    </tr>\n",
       "  </tbody>\n",
       "</table>\n",
       "</div>"
      ],
      "text/plain": [
       "    loc_id                                         address   latitude  \\\n",
       "0        0                 West Kowloon Station, Hong Kong  22.304080   \n",
       "1        1     Block 1, Site 11, Whampoa Garden, Hong Kong  22.305096   \n",
       "2        2    Wah Cheung House, Ching Wah Court, Hong Kong  22.348820   \n",
       "3        3              Tower 2, The Coronation, Hong Kong  22.309601   \n",
       "4        4   Cheung Hong Estate, Hong Mei House, Hong Kong  22.350433   \n",
       "5        5         Four Seasons Hotel Hong Kong, Hong Kong  22.286634   \n",
       "6        6                          W Hong Kong, Hong Kong  22.304636   \n",
       "7        7                     The Ritz-Carlton, Hong Kong  22.303165   \n",
       "8        8  8/F, Tin Hei House, Tin Ping Estate, Hong Kong  22.503551   \n",
       "9        9         Block 2, Tseung Kwan O Plaza, Hong Kong  22.308929   \n",
       "10      10                     Universal Towers, Hong Kong  22.296215   \n",
       "11      11                      South Hillcrest, Hong Kong  22.412291   \n",
       "12      12                 Tower 1, Lake Silver, Hong Kong  22.428621   \n",
       "13      13  Empire Hotel Kowloon, Tsim Sha Tsui, Hong Kong  22.300866   \n",
       "14      14        Floor 23, Li Po Chun Chambers, Hong Kong  22.286215   \n",
       "15      15            26/F, Tower 1A, Oceanaire, Hong Kong  22.415273   \n",
       "16      16                  Alva Hotel by Royal, Hong Kong  22.383572   \n",
       "17      17     Luk Kwai House Kwai Chung Estate, Hong Kong  22.368088   \n",
       "18      18             Lo Wu Customs Checkpoint, Hong Kong  22.279328   \n",
       "19      19              Kai Tak Cruise Terminal, Hong Kong  22.307013   \n",
       "20      20           \"Enhanted Princess\" Cruise, Hong Kong  22.279328   \n",
       "\n",
       "     longitude  \n",
       "0   114.166501  \n",
       "1   114.190610  \n",
       "2   114.101020  \n",
       "3   114.165802  \n",
       "4   114.099415  \n",
       "5   114.156700  \n",
       "6   114.160593  \n",
       "7   114.160212  \n",
       "8   114.133889  \n",
       "9   114.262603  \n",
       "10  114.171632  \n",
       "11  113.983503  \n",
       "12  114.243974  \n",
       "13  114.175152  \n",
       "14  114.154002  \n",
       "15  114.223638  \n",
       "16  114.208377  \n",
       "17  114.128424  \n",
       "18  114.162813  \n",
       "19  114.212063  \n",
       "20  114.162813  "
      ]
     },
     "execution_count": 50,
     "metadata": {},
     "output_type": "execute_result"
    }
   ],
   "source": [
    "coordinates_df"
   ]
  },
  {
   "cell_type": "code",
   "execution_count": 61,
   "metadata": {},
   "outputs": [],
   "source": [
    "with open(r'../assets/coordinates_df.pkl', 'wb') as f:\n",
    "    pickle.dump(coordinates_df,f)"
   ]
  },
  {
   "cell_type": "markdown",
   "metadata": {},
   "source": [
    "## Simple Visualization using Folium"
   ]
  },
  {
   "cell_type": "code",
   "execution_count": 54,
   "metadata": {},
   "outputs": [],
   "source": [
    "map_hk = folium.Map(location=[hk_latitude, hk_longitude], zoom_start=9, tiles='stamentoner')\n",
    "# folium.TileLayer('stamentoner').add_to(map_hk)\n",
    "\n",
    "for idx, row in coordinates_df.iterrows():\n",
    "    address = row['address']\n",
    "    latitude = row['latitude']\n",
    "    longitude = row['longitude']\n",
    "#     print(latitude)\n",
    "    if not np.isnan(latitude) and not np.isnan(longitude):\n",
    "#         print(f'add {address}')\n",
    "        folium.CircleMarker(\n",
    "            [latitude, longitude],\n",
    "            radius=5,\n",
    "            popup=address,\n",
    "            color='red',\n",
    "            fill=True,\n",
    "            fill_color='#3186cc',\n",
    "            fill_opacity=0.7,\n",
    "            parse_html=False\n",
    "        ).add_to(map_hk)"
   ]
  },
  {
   "cell_type": "code",
   "execution_count": 55,
   "metadata": {},
   "outputs": [
    {
     "data": {
      "text/html": [
       "<div style=\"width:100%;\"><div style=\"position:relative;width:100%;height:0;padding-bottom:60%;\"><iframe src=\"data:text/html;charset=utf-8;base64,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\" style=\"position:absolute;width:100%;height:100%;left:0;top:0;border:none !important;\" allowfullscreen webkitallowfullscreen mozallowfullscreen></iframe></div></div>"
      ],
      "text/plain": [
       "<folium.folium.Map at 0x11717c780>"
      ]
     },
     "execution_count": 55,
     "metadata": {},
     "output_type": "execute_result"
    }
   ],
   "source": [
    "map_hk"
   ]
  },
  {
   "cell_type": "markdown",
   "metadata": {},
   "source": [
    "## Plotly Visualization"
   ]
  },
  {
   "cell_type": "code",
   "execution_count": 56,
   "metadata": {},
   "outputs": [],
   "source": [
    "with open(r'../assets/.mapbox_token', 'rb') as f:\n",
    "    token = pickle.load(f)"
   ]
  },
  {
   "cell_type": "code",
   "execution_count": 60,
   "metadata": {},
   "outputs": [
    {
     "data": {
      "application/vnd.plotly.v1+json": {
       "config": {
        "plotlyServerURL": "https://plot.ly"
       },
       "data": [
        {
         "hoverlabel": {
          "namelength": 0
         },
         "hovertemplate": "<b>%{hovertext}</b><br><br>size=%{marker.size}<br>latitude=%{lat}<br>longitude=%{lon}",
         "hovertext": [
          "West Kowloon Station, Hong Kong",
          "Block 1, Site 11, Whampoa Garden, Hong Kong",
          "Wah Cheung House, Ching Wah Court, Hong Kong",
          "Tower 2, The Coronation, Hong Kong",
          "Cheung Hong Estate, Hong Mei House, Hong Kong",
          "Four Seasons Hotel Hong Kong, Hong Kong",
          "W Hong Kong, Hong Kong",
          "The Ritz-Carlton, Hong Kong",
          "8/F, Tin Hei House, Tin Ping Estate, Hong Kong",
          "Block 2, Tseung Kwan O Plaza, Hong Kong",
          "Universal Towers, Hong Kong",
          "South Hillcrest, Hong Kong",
          "Tower 1, Lake Silver, Hong Kong",
          "Empire Hotel Kowloon, Tsim Sha Tsui, Hong Kong",
          "Floor 23, Li Po Chun Chambers, Hong Kong",
          "26/F, Tower 1A, Oceanaire, Hong Kong",
          "Alva Hotel by Royal, Hong Kong",
          "Luk Kwai House Kwai Chung Estate, Hong Kong",
          "Lo Wu Customs Checkpoint, Hong Kong",
          "Kai Tak Cruise Terminal, Hong Kong",
          "\"Enhanted Princess\" Cruise, Hong Kong"
         ],
         "lat": [
          22.30408,
          22.3050958,
          22.34882045,
          22.30960125,
          22.35043255,
          22.286634,
          22.3046362,
          22.3031647,
          22.5035506,
          22.30892915,
          22.2916575,
          22.412290650000003,
          22.42862075,
          22.30086585,
          22.28621485,
          22.415272899999998,
          22.383572049999998,
          22.3680884,
          22.528975199999998,
          22.3070126,
          22.307013
         ],
         "legendgroup": "",
         "lon": [
          114.166501,
          114.1906104,
          114.10101986186172,
          114.1658022313385,
          114.09941493781143,
          114.15670007736094,
          114.1605933,
          114.1602124,
          114.1338886,
          114.26260260691501,
          114.1995447,
          113.98350325928573,
          114.24397364106841,
          114.17515235300337,
          114.1540021399411,
          114.22363798622936,
          114.20837702798516,
          114.1284245,
          114.1132663700057,
          114.21206298911216,
          114.212063
         ],
         "marker": {
          "color": "#636efa",
          "size": [
           1,
           1,
           1,
           1,
           1,
           1,
           1,
           1,
           1,
           1,
           1,
           1,
           1,
           1,
           1,
           1,
           1,
           1,
           1,
           1,
           1
          ],
          "sizemode": "area",
          "sizeref": 0.027777777777777776
         },
         "mode": "markers",
         "name": "",
         "showlegend": false,
         "subplot": "mapbox",
         "type": "scattermapbox"
        }
       ],
       "layout": {
        "height": 900,
        "legend": {
         "itemsizing": "constant",
         "tracegroupgap": 0
        },
        "mapbox": {
         "accesstoken": "pk.eyJ1IjoiYnJpYW5icmlhbjEyMyIsImEiOiJjazYzZDZvb3EwOHRzM2VvYzNpZGU1ZHJyIn0.5zV3WXr1ZQ0DY3F_dQFVLw",
         "center": {
          "lat": 22.35021564047619,
          "lon": 114.16435016104376
         },
         "domain": {
          "x": [
           0,
           1
          ],
          "y": [
           0,
           1
          ]
         },
         "zoom": 10
        },
        "template": {
         "data": {
          "bar": [
           {
            "error_x": {
             "color": "#2a3f5f"
            },
            "error_y": {
             "color": "#2a3f5f"
            },
            "marker": {
             "line": {
              "color": "#E5ECF6",
              "width": 0.5
             }
            },
            "type": "bar"
           }
          ],
          "barpolar": [
           {
            "marker": {
             "line": {
              "color": "#E5ECF6",
              "width": 0.5
             }
            },
            "type": "barpolar"
           }
          ],
          "carpet": [
           {
            "aaxis": {
             "endlinecolor": "#2a3f5f",
             "gridcolor": "white",
             "linecolor": "white",
             "minorgridcolor": "white",
             "startlinecolor": "#2a3f5f"
            },
            "baxis": {
             "endlinecolor": "#2a3f5f",
             "gridcolor": "white",
             "linecolor": "white",
             "minorgridcolor": "white",
             "startlinecolor": "#2a3f5f"
            },
            "type": "carpet"
           }
          ],
          "choropleth": [
           {
            "colorbar": {
             "outlinewidth": 0,
             "ticks": ""
            },
            "type": "choropleth"
           }
          ],
          "contour": [
           {
            "colorbar": {
             "outlinewidth": 0,
             "ticks": ""
            },
            "colorscale": [
             [
              0,
              "#0d0887"
             ],
             [
              0.1111111111111111,
              "#46039f"
             ],
             [
              0.2222222222222222,
              "#7201a8"
             ],
             [
              0.3333333333333333,
              "#9c179e"
             ],
             [
              0.4444444444444444,
              "#bd3786"
             ],
             [
              0.5555555555555556,
              "#d8576b"
             ],
             [
              0.6666666666666666,
              "#ed7953"
             ],
             [
              0.7777777777777778,
              "#fb9f3a"
             ],
             [
              0.8888888888888888,
              "#fdca26"
             ],
             [
              1,
              "#f0f921"
             ]
            ],
            "type": "contour"
           }
          ],
          "contourcarpet": [
           {
            "colorbar": {
             "outlinewidth": 0,
             "ticks": ""
            },
            "type": "contourcarpet"
           }
          ],
          "heatmap": [
           {
            "colorbar": {
             "outlinewidth": 0,
             "ticks": ""
            },
            "colorscale": [
             [
              0,
              "#0d0887"
             ],
             [
              0.1111111111111111,
              "#46039f"
             ],
             [
              0.2222222222222222,
              "#7201a8"
             ],
             [
              0.3333333333333333,
              "#9c179e"
             ],
             [
              0.4444444444444444,
              "#bd3786"
             ],
             [
              0.5555555555555556,
              "#d8576b"
             ],
             [
              0.6666666666666666,
              "#ed7953"
             ],
             [
              0.7777777777777778,
              "#fb9f3a"
             ],
             [
              0.8888888888888888,
              "#fdca26"
             ],
             [
              1,
              "#f0f921"
             ]
            ],
            "type": "heatmap"
           }
          ],
          "heatmapgl": [
           {
            "colorbar": {
             "outlinewidth": 0,
             "ticks": ""
            },
            "colorscale": [
             [
              0,
              "#0d0887"
             ],
             [
              0.1111111111111111,
              "#46039f"
             ],
             [
              0.2222222222222222,
              "#7201a8"
             ],
             [
              0.3333333333333333,
              "#9c179e"
             ],
             [
              0.4444444444444444,
              "#bd3786"
             ],
             [
              0.5555555555555556,
              "#d8576b"
             ],
             [
              0.6666666666666666,
              "#ed7953"
             ],
             [
              0.7777777777777778,
              "#fb9f3a"
             ],
             [
              0.8888888888888888,
              "#fdca26"
             ],
             [
              1,
              "#f0f921"
             ]
            ],
            "type": "heatmapgl"
           }
          ],
          "histogram": [
           {
            "marker": {
             "colorbar": {
              "outlinewidth": 0,
              "ticks": ""
             }
            },
            "type": "histogram"
           }
          ],
          "histogram2d": [
           {
            "colorbar": {
             "outlinewidth": 0,
             "ticks": ""
            },
            "colorscale": [
             [
              0,
              "#0d0887"
             ],
             [
              0.1111111111111111,
              "#46039f"
             ],
             [
              0.2222222222222222,
              "#7201a8"
             ],
             [
              0.3333333333333333,
              "#9c179e"
             ],
             [
              0.4444444444444444,
              "#bd3786"
             ],
             [
              0.5555555555555556,
              "#d8576b"
             ],
             [
              0.6666666666666666,
              "#ed7953"
             ],
             [
              0.7777777777777778,
              "#fb9f3a"
             ],
             [
              0.8888888888888888,
              "#fdca26"
             ],
             [
              1,
              "#f0f921"
             ]
            ],
            "type": "histogram2d"
           }
          ],
          "histogram2dcontour": [
           {
            "colorbar": {
             "outlinewidth": 0,
             "ticks": ""
            },
            "colorscale": [
             [
              0,
              "#0d0887"
             ],
             [
              0.1111111111111111,
              "#46039f"
             ],
             [
              0.2222222222222222,
              "#7201a8"
             ],
             [
              0.3333333333333333,
              "#9c179e"
             ],
             [
              0.4444444444444444,
              "#bd3786"
             ],
             [
              0.5555555555555556,
              "#d8576b"
             ],
             [
              0.6666666666666666,
              "#ed7953"
             ],
             [
              0.7777777777777778,
              "#fb9f3a"
             ],
             [
              0.8888888888888888,
              "#fdca26"
             ],
             [
              1,
              "#f0f921"
             ]
            ],
            "type": "histogram2dcontour"
           }
          ],
          "mesh3d": [
           {
            "colorbar": {
             "outlinewidth": 0,
             "ticks": ""
            },
            "type": "mesh3d"
           }
          ],
          "parcoords": [
           {
            "line": {
             "colorbar": {
              "outlinewidth": 0,
              "ticks": ""
             }
            },
            "type": "parcoords"
           }
          ],
          "pie": [
           {
            "automargin": true,
            "type": "pie"
           }
          ],
          "scatter": [
           {
            "marker": {
             "colorbar": {
              "outlinewidth": 0,
              "ticks": ""
             }
            },
            "type": "scatter"
           }
          ],
          "scatter3d": [
           {
            "line": {
             "colorbar": {
              "outlinewidth": 0,
              "ticks": ""
             }
            },
            "marker": {
             "colorbar": {
              "outlinewidth": 0,
              "ticks": ""
             }
            },
            "type": "scatter3d"
           }
          ],
          "scattercarpet": [
           {
            "marker": {
             "colorbar": {
              "outlinewidth": 0,
              "ticks": ""
             }
            },
            "type": "scattercarpet"
           }
          ],
          "scattergeo": [
           {
            "marker": {
             "colorbar": {
              "outlinewidth": 0,
              "ticks": ""
             }
            },
            "type": "scattergeo"
           }
          ],
          "scattergl": [
           {
            "marker": {
             "colorbar": {
              "outlinewidth": 0,
              "ticks": ""
             }
            },
            "type": "scattergl"
           }
          ],
          "scattermapbox": [
           {
            "marker": {
             "colorbar": {
              "outlinewidth": 0,
              "ticks": ""
             }
            },
            "type": "scattermapbox"
           }
          ],
          "scatterpolar": [
           {
            "marker": {
             "colorbar": {
              "outlinewidth": 0,
              "ticks": ""
             }
            },
            "type": "scatterpolar"
           }
          ],
          "scatterpolargl": [
           {
            "marker": {
             "colorbar": {
              "outlinewidth": 0,
              "ticks": ""
             }
            },
            "type": "scatterpolargl"
           }
          ],
          "scatterternary": [
           {
            "marker": {
             "colorbar": {
              "outlinewidth": 0,
              "ticks": ""
             }
            },
            "type": "scatterternary"
           }
          ],
          "surface": [
           {
            "colorbar": {
             "outlinewidth": 0,
             "ticks": ""
            },
            "colorscale": [
             [
              0,
              "#0d0887"
             ],
             [
              0.1111111111111111,
              "#46039f"
             ],
             [
              0.2222222222222222,
              "#7201a8"
             ],
             [
              0.3333333333333333,
              "#9c179e"
             ],
             [
              0.4444444444444444,
              "#bd3786"
             ],
             [
              0.5555555555555556,
              "#d8576b"
             ],
             [
              0.6666666666666666,
              "#ed7953"
             ],
             [
              0.7777777777777778,
              "#fb9f3a"
             ],
             [
              0.8888888888888888,
              "#fdca26"
             ],
             [
              1,
              "#f0f921"
             ]
            ],
            "type": "surface"
           }
          ],
          "table": [
           {
            "cells": {
             "fill": {
              "color": "#EBF0F8"
             },
             "line": {
              "color": "white"
             }
            },
            "header": {
             "fill": {
              "color": "#C8D4E3"
             },
             "line": {
              "color": "white"
             }
            },
            "type": "table"
           }
          ]
         },
         "layout": {
          "annotationdefaults": {
           "arrowcolor": "#2a3f5f",
           "arrowhead": 0,
           "arrowwidth": 1
          },
          "coloraxis": {
           "colorbar": {
            "outlinewidth": 0,
            "ticks": ""
           }
          },
          "colorscale": {
           "diverging": [
            [
             0,
             "#8e0152"
            ],
            [
             0.1,
             "#c51b7d"
            ],
            [
             0.2,
             "#de77ae"
            ],
            [
             0.3,
             "#f1b6da"
            ],
            [
             0.4,
             "#fde0ef"
            ],
            [
             0.5,
             "#f7f7f7"
            ],
            [
             0.6,
             "#e6f5d0"
            ],
            [
             0.7,
             "#b8e186"
            ],
            [
             0.8,
             "#7fbc41"
            ],
            [
             0.9,
             "#4d9221"
            ],
            [
             1,
             "#276419"
            ]
           ],
           "sequential": [
            [
             0,
             "#0d0887"
            ],
            [
             0.1111111111111111,
             "#46039f"
            ],
            [
             0.2222222222222222,
             "#7201a8"
            ],
            [
             0.3333333333333333,
             "#9c179e"
            ],
            [
             0.4444444444444444,
             "#bd3786"
            ],
            [
             0.5555555555555556,
             "#d8576b"
            ],
            [
             0.6666666666666666,
             "#ed7953"
            ],
            [
             0.7777777777777778,
             "#fb9f3a"
            ],
            [
             0.8888888888888888,
             "#fdca26"
            ],
            [
             1,
             "#f0f921"
            ]
           ],
           "sequentialminus": [
            [
             0,
             "#0d0887"
            ],
            [
             0.1111111111111111,
             "#46039f"
            ],
            [
             0.2222222222222222,
             "#7201a8"
            ],
            [
             0.3333333333333333,
             "#9c179e"
            ],
            [
             0.4444444444444444,
             "#bd3786"
            ],
            [
             0.5555555555555556,
             "#d8576b"
            ],
            [
             0.6666666666666666,
             "#ed7953"
            ],
            [
             0.7777777777777778,
             "#fb9f3a"
            ],
            [
             0.8888888888888888,
             "#fdca26"
            ],
            [
             1,
             "#f0f921"
            ]
           ]
          },
          "colorway": [
           "#636efa",
           "#EF553B",
           "#00cc96",
           "#ab63fa",
           "#FFA15A",
           "#19d3f3",
           "#FF6692",
           "#B6E880",
           "#FF97FF",
           "#FECB52"
          ],
          "font": {
           "color": "#2a3f5f"
          },
          "geo": {
           "bgcolor": "white",
           "lakecolor": "white",
           "landcolor": "#E5ECF6",
           "showlakes": true,
           "showland": true,
           "subunitcolor": "white"
          },
          "hoverlabel": {
           "align": "left"
          },
          "hovermode": "closest",
          "mapbox": {
           "style": "light"
          },
          "paper_bgcolor": "white",
          "plot_bgcolor": "#E5ECF6",
          "polar": {
           "angularaxis": {
            "gridcolor": "white",
            "linecolor": "white",
            "ticks": ""
           },
           "bgcolor": "#E5ECF6",
           "radialaxis": {
            "gridcolor": "white",
            "linecolor": "white",
            "ticks": ""
           }
          },
          "scene": {
           "xaxis": {
            "backgroundcolor": "#E5ECF6",
            "gridcolor": "white",
            "gridwidth": 2,
            "linecolor": "white",
            "showbackground": true,
            "ticks": "",
            "zerolinecolor": "white"
           },
           "yaxis": {
            "backgroundcolor": "#E5ECF6",
            "gridcolor": "white",
            "gridwidth": 2,
            "linecolor": "white",
            "showbackground": true,
            "ticks": "",
            "zerolinecolor": "white"
           },
           "zaxis": {
            "backgroundcolor": "#E5ECF6",
            "gridcolor": "white",
            "gridwidth": 2,
            "linecolor": "white",
            "showbackground": true,
            "ticks": "",
            "zerolinecolor": "white"
           }
          },
          "shapedefaults": {
           "line": {
            "color": "#2a3f5f"
           }
          },
          "ternary": {
           "aaxis": {
            "gridcolor": "white",
            "linecolor": "white",
            "ticks": ""
           },
           "baxis": {
            "gridcolor": "white",
            "linecolor": "white",
            "ticks": ""
           },
           "bgcolor": "#E5ECF6",
           "caxis": {
            "gridcolor": "white",
            "linecolor": "white",
            "ticks": ""
           }
          },
          "title": {
           "x": 0.05
          },
          "xaxis": {
           "automargin": true,
           "gridcolor": "white",
           "linecolor": "white",
           "ticks": "",
           "title": {
            "standoff": 15
           },
           "zerolinecolor": "white",
           "zerolinewidth": 2
          },
          "yaxis": {
           "automargin": true,
           "gridcolor": "white",
           "linecolor": "white",
           "ticks": "",
           "title": {
            "standoff": 15
           },
           "zerolinecolor": "white",
           "zerolinewidth": 2
          }
         }
        },
        "title": {
         "text": "Coronovirus High Risk Areas"
        }
       }
      },
      "text/html": [
       "<div>\n",
       "        \n",
       "        \n",
       "            <div id=\"447f29a1-6852-4a5f-bdf8-d539a70aa244\" class=\"plotly-graph-div\" style=\"height:900px; width:100%;\"></div>\n",
       "            <script type=\"text/javascript\">\n",
       "                require([\"plotly\"], function(Plotly) {\n",
       "                    window.PLOTLYENV=window.PLOTLYENV || {};\n",
       "                    \n",
       "                if (document.getElementById(\"447f29a1-6852-4a5f-bdf8-d539a70aa244\")) {\n",
       "                    Plotly.newPlot(\n",
       "                        '447f29a1-6852-4a5f-bdf8-d539a70aa244',\n",
       "                        [{\"hoverlabel\": {\"namelength\": 0}, \"hovertemplate\": \"<b>%{hovertext}</b><br><br>size=%{marker.size}<br>latitude=%{lat}<br>longitude=%{lon}\", \"hovertext\": [\"West Kowloon Station, Hong Kong\", \"Block 1, Site 11, Whampoa Garden, Hong Kong\", \"Wah Cheung House, Ching Wah Court, Hong Kong\", \"Tower 2, The Coronation, Hong Kong\", \"Cheung Hong Estate, Hong Mei House, Hong Kong\", \"Four Seasons Hotel Hong Kong, Hong Kong\", \"W Hong Kong, Hong Kong\", \"The Ritz-Carlton, Hong Kong\", \"8/F, Tin Hei House, Tin Ping Estate, Hong Kong\", \"Block 2, Tseung Kwan O Plaza, Hong Kong\", \"Universal Towers, Hong Kong\", \"South Hillcrest, Hong Kong\", \"Tower 1, Lake Silver, Hong Kong\", \"Empire Hotel Kowloon, Tsim Sha Tsui, Hong Kong\", \"Floor 23, Li Po Chun Chambers, Hong Kong\", \"26/F, Tower 1A, Oceanaire, Hong Kong\", \"Alva Hotel by Royal, Hong Kong\", \"Luk Kwai House Kwai Chung Estate, Hong Kong\", \"Lo Wu Customs Checkpoint, Hong Kong\", \"Kai Tak Cruise Terminal, Hong Kong\", \"\\\"Enhanted Princess\\\" Cruise, Hong Kong\"], \"lat\": [22.30408, 22.3050958, 22.34882045, 22.30960125, 22.35043255, 22.286634, 22.3046362, 22.3031647, 22.5035506, 22.30892915, 22.2916575, 22.412290650000003, 22.42862075, 22.30086585, 22.28621485, 22.415272899999998, 22.383572049999998, 22.3680884, 22.528975199999998, 22.3070126, 22.307013], \"legendgroup\": \"\", \"lon\": [114.166501, 114.1906104, 114.10101986186172, 114.1658022313385, 114.09941493781143, 114.15670007736094, 114.1605933, 114.1602124, 114.1338886, 114.26260260691501, 114.1995447, 113.98350325928573, 114.24397364106841, 114.17515235300337, 114.1540021399411, 114.22363798622936, 114.20837702798516, 114.1284245, 114.1132663700057, 114.21206298911216, 114.212063], \"marker\": {\"color\": \"#636efa\", \"size\": [1, 1, 1, 1, 1, 1, 1, 1, 1, 1, 1, 1, 1, 1, 1, 1, 1, 1, 1, 1, 1], \"sizemode\": \"area\", \"sizeref\": 0.027777777777777776}, \"mode\": \"markers\", \"name\": \"\", \"showlegend\": false, \"subplot\": \"mapbox\", \"type\": \"scattermapbox\"}],\n",
       "                        {\"height\": 900, \"legend\": {\"itemsizing\": \"constant\", \"tracegroupgap\": 0}, \"mapbox\": {\"accesstoken\": \"pk.eyJ1IjoiYnJpYW5icmlhbjEyMyIsImEiOiJjazYzZDZvb3EwOHRzM2VvYzNpZGU1ZHJyIn0.5zV3WXr1ZQ0DY3F_dQFVLw\", \"center\": {\"lat\": 22.35021564047619, \"lon\": 114.16435016104376}, \"domain\": {\"x\": [0.0, 1.0], \"y\": [0.0, 1.0]}, \"zoom\": 10}, \"template\": {\"data\": {\"bar\": [{\"error_x\": {\"color\": \"#2a3f5f\"}, \"error_y\": {\"color\": \"#2a3f5f\"}, \"marker\": {\"line\": {\"color\": \"#E5ECF6\", \"width\": 0.5}}, \"type\": \"bar\"}], \"barpolar\": [{\"marker\": {\"line\": {\"color\": \"#E5ECF6\", \"width\": 0.5}}, \"type\": \"barpolar\"}], \"carpet\": [{\"aaxis\": {\"endlinecolor\": \"#2a3f5f\", \"gridcolor\": \"white\", \"linecolor\": \"white\", \"minorgridcolor\": \"white\", \"startlinecolor\": \"#2a3f5f\"}, \"baxis\": {\"endlinecolor\": \"#2a3f5f\", \"gridcolor\": \"white\", \"linecolor\": \"white\", \"minorgridcolor\": \"white\", \"startlinecolor\": \"#2a3f5f\"}, \"type\": \"carpet\"}], \"choropleth\": [{\"colorbar\": {\"outlinewidth\": 0, \"ticks\": \"\"}, \"type\": \"choropleth\"}], \"contour\": [{\"colorbar\": {\"outlinewidth\": 0, \"ticks\": \"\"}, \"colorscale\": [[0.0, \"#0d0887\"], [0.1111111111111111, \"#46039f\"], [0.2222222222222222, \"#7201a8\"], [0.3333333333333333, \"#9c179e\"], [0.4444444444444444, \"#bd3786\"], [0.5555555555555556, \"#d8576b\"], [0.6666666666666666, \"#ed7953\"], [0.7777777777777778, \"#fb9f3a\"], [0.8888888888888888, \"#fdca26\"], [1.0, \"#f0f921\"]], \"type\": \"contour\"}], \"contourcarpet\": [{\"colorbar\": {\"outlinewidth\": 0, \"ticks\": \"\"}, \"type\": \"contourcarpet\"}], \"heatmap\": [{\"colorbar\": {\"outlinewidth\": 0, \"ticks\": \"\"}, \"colorscale\": [[0.0, \"#0d0887\"], [0.1111111111111111, \"#46039f\"], [0.2222222222222222, \"#7201a8\"], [0.3333333333333333, \"#9c179e\"], [0.4444444444444444, \"#bd3786\"], [0.5555555555555556, \"#d8576b\"], [0.6666666666666666, \"#ed7953\"], [0.7777777777777778, \"#fb9f3a\"], [0.8888888888888888, \"#fdca26\"], [1.0, \"#f0f921\"]], \"type\": \"heatmap\"}], \"heatmapgl\": [{\"colorbar\": {\"outlinewidth\": 0, \"ticks\": \"\"}, \"colorscale\": [[0.0, \"#0d0887\"], [0.1111111111111111, \"#46039f\"], [0.2222222222222222, \"#7201a8\"], [0.3333333333333333, \"#9c179e\"], [0.4444444444444444, \"#bd3786\"], [0.5555555555555556, \"#d8576b\"], [0.6666666666666666, \"#ed7953\"], [0.7777777777777778, \"#fb9f3a\"], [0.8888888888888888, \"#fdca26\"], [1.0, \"#f0f921\"]], \"type\": \"heatmapgl\"}], \"histogram\": [{\"marker\": {\"colorbar\": {\"outlinewidth\": 0, \"ticks\": \"\"}}, \"type\": \"histogram\"}], \"histogram2d\": [{\"colorbar\": {\"outlinewidth\": 0, \"ticks\": \"\"}, \"colorscale\": [[0.0, \"#0d0887\"], [0.1111111111111111, \"#46039f\"], [0.2222222222222222, \"#7201a8\"], [0.3333333333333333, \"#9c179e\"], [0.4444444444444444, \"#bd3786\"], [0.5555555555555556, \"#d8576b\"], [0.6666666666666666, \"#ed7953\"], [0.7777777777777778, \"#fb9f3a\"], [0.8888888888888888, \"#fdca26\"], [1.0, \"#f0f921\"]], \"type\": \"histogram2d\"}], \"histogram2dcontour\": [{\"colorbar\": {\"outlinewidth\": 0, \"ticks\": \"\"}, \"colorscale\": [[0.0, \"#0d0887\"], [0.1111111111111111, \"#46039f\"], [0.2222222222222222, \"#7201a8\"], [0.3333333333333333, \"#9c179e\"], [0.4444444444444444, \"#bd3786\"], [0.5555555555555556, \"#d8576b\"], [0.6666666666666666, \"#ed7953\"], [0.7777777777777778, \"#fb9f3a\"], [0.8888888888888888, \"#fdca26\"], [1.0, \"#f0f921\"]], \"type\": \"histogram2dcontour\"}], \"mesh3d\": [{\"colorbar\": {\"outlinewidth\": 0, \"ticks\": \"\"}, \"type\": \"mesh3d\"}], \"parcoords\": [{\"line\": {\"colorbar\": {\"outlinewidth\": 0, \"ticks\": \"\"}}, \"type\": \"parcoords\"}], \"pie\": [{\"automargin\": true, \"type\": \"pie\"}], \"scatter\": [{\"marker\": {\"colorbar\": {\"outlinewidth\": 0, \"ticks\": \"\"}}, \"type\": \"scatter\"}], \"scatter3d\": [{\"line\": {\"colorbar\": {\"outlinewidth\": 0, \"ticks\": \"\"}}, \"marker\": {\"colorbar\": {\"outlinewidth\": 0, \"ticks\": \"\"}}, \"type\": \"scatter3d\"}], \"scattercarpet\": [{\"marker\": {\"colorbar\": {\"outlinewidth\": 0, \"ticks\": \"\"}}, \"type\": \"scattercarpet\"}], \"scattergeo\": [{\"marker\": {\"colorbar\": {\"outlinewidth\": 0, \"ticks\": \"\"}}, \"type\": \"scattergeo\"}], \"scattergl\": [{\"marker\": {\"colorbar\": {\"outlinewidth\": 0, \"ticks\": \"\"}}, \"type\": \"scattergl\"}], \"scattermapbox\": [{\"marker\": {\"colorbar\": {\"outlinewidth\": 0, \"ticks\": \"\"}}, \"type\": \"scattermapbox\"}], \"scatterpolar\": [{\"marker\": {\"colorbar\": {\"outlinewidth\": 0, \"ticks\": \"\"}}, \"type\": \"scatterpolar\"}], \"scatterpolargl\": [{\"marker\": {\"colorbar\": {\"outlinewidth\": 0, \"ticks\": \"\"}}, \"type\": \"scatterpolargl\"}], \"scatterternary\": [{\"marker\": {\"colorbar\": {\"outlinewidth\": 0, \"ticks\": \"\"}}, \"type\": \"scatterternary\"}], \"surface\": [{\"colorbar\": {\"outlinewidth\": 0, \"ticks\": \"\"}, \"colorscale\": [[0.0, \"#0d0887\"], [0.1111111111111111, \"#46039f\"], [0.2222222222222222, \"#7201a8\"], [0.3333333333333333, \"#9c179e\"], [0.4444444444444444, \"#bd3786\"], [0.5555555555555556, \"#d8576b\"], [0.6666666666666666, \"#ed7953\"], [0.7777777777777778, \"#fb9f3a\"], [0.8888888888888888, \"#fdca26\"], [1.0, \"#f0f921\"]], \"type\": \"surface\"}], \"table\": [{\"cells\": {\"fill\": {\"color\": \"#EBF0F8\"}, \"line\": {\"color\": \"white\"}}, \"header\": {\"fill\": {\"color\": \"#C8D4E3\"}, \"line\": {\"color\": \"white\"}}, \"type\": \"table\"}]}, \"layout\": {\"annotationdefaults\": {\"arrowcolor\": \"#2a3f5f\", \"arrowhead\": 0, \"arrowwidth\": 1}, \"coloraxis\": {\"colorbar\": {\"outlinewidth\": 0, \"ticks\": \"\"}}, \"colorscale\": {\"diverging\": [[0, \"#8e0152\"], [0.1, \"#c51b7d\"], [0.2, \"#de77ae\"], [0.3, \"#f1b6da\"], [0.4, \"#fde0ef\"], [0.5, \"#f7f7f7\"], [0.6, \"#e6f5d0\"], [0.7, \"#b8e186\"], [0.8, \"#7fbc41\"], [0.9, \"#4d9221\"], [1, \"#276419\"]], \"sequential\": [[0.0, \"#0d0887\"], [0.1111111111111111, \"#46039f\"], [0.2222222222222222, \"#7201a8\"], [0.3333333333333333, \"#9c179e\"], [0.4444444444444444, \"#bd3786\"], [0.5555555555555556, \"#d8576b\"], [0.6666666666666666, \"#ed7953\"], [0.7777777777777778, \"#fb9f3a\"], [0.8888888888888888, \"#fdca26\"], [1.0, \"#f0f921\"]], \"sequentialminus\": [[0.0, \"#0d0887\"], [0.1111111111111111, \"#46039f\"], [0.2222222222222222, \"#7201a8\"], [0.3333333333333333, \"#9c179e\"], [0.4444444444444444, \"#bd3786\"], [0.5555555555555556, \"#d8576b\"], [0.6666666666666666, \"#ed7953\"], [0.7777777777777778, \"#fb9f3a\"], [0.8888888888888888, \"#fdca26\"], [1.0, \"#f0f921\"]]}, \"colorway\": [\"#636efa\", \"#EF553B\", \"#00cc96\", \"#ab63fa\", \"#FFA15A\", \"#19d3f3\", \"#FF6692\", \"#B6E880\", \"#FF97FF\", \"#FECB52\"], \"font\": {\"color\": \"#2a3f5f\"}, \"geo\": {\"bgcolor\": \"white\", \"lakecolor\": \"white\", \"landcolor\": \"#E5ECF6\", \"showlakes\": true, \"showland\": true, \"subunitcolor\": \"white\"}, \"hoverlabel\": {\"align\": \"left\"}, \"hovermode\": \"closest\", \"mapbox\": {\"style\": \"light\"}, \"paper_bgcolor\": \"white\", \"plot_bgcolor\": \"#E5ECF6\", \"polar\": {\"angularaxis\": {\"gridcolor\": \"white\", \"linecolor\": \"white\", \"ticks\": \"\"}, \"bgcolor\": \"#E5ECF6\", \"radialaxis\": {\"gridcolor\": \"white\", \"linecolor\": \"white\", \"ticks\": \"\"}}, \"scene\": {\"xaxis\": {\"backgroundcolor\": \"#E5ECF6\", \"gridcolor\": \"white\", \"gridwidth\": 2, \"linecolor\": \"white\", \"showbackground\": true, \"ticks\": \"\", \"zerolinecolor\": \"white\"}, \"yaxis\": {\"backgroundcolor\": \"#E5ECF6\", \"gridcolor\": \"white\", \"gridwidth\": 2, \"linecolor\": \"white\", \"showbackground\": true, \"ticks\": \"\", \"zerolinecolor\": \"white\"}, \"zaxis\": {\"backgroundcolor\": \"#E5ECF6\", \"gridcolor\": \"white\", \"gridwidth\": 2, \"linecolor\": \"white\", \"showbackground\": true, \"ticks\": \"\", \"zerolinecolor\": \"white\"}}, \"shapedefaults\": {\"line\": {\"color\": \"#2a3f5f\"}}, \"ternary\": {\"aaxis\": {\"gridcolor\": \"white\", \"linecolor\": \"white\", \"ticks\": \"\"}, \"baxis\": {\"gridcolor\": \"white\", \"linecolor\": \"white\", \"ticks\": \"\"}, \"bgcolor\": \"#E5ECF6\", \"caxis\": {\"gridcolor\": \"white\", \"linecolor\": \"white\", \"ticks\": \"\"}}, \"title\": {\"x\": 0.05}, \"xaxis\": {\"automargin\": true, \"gridcolor\": \"white\", \"linecolor\": \"white\", \"ticks\": \"\", \"title\": {\"standoff\": 15}, \"zerolinecolor\": \"white\", \"zerolinewidth\": 2}, \"yaxis\": {\"automargin\": true, \"gridcolor\": \"white\", \"linecolor\": \"white\", \"ticks\": \"\", \"title\": {\"standoff\": 15}, \"zerolinecolor\": \"white\", \"zerolinewidth\": 2}}}, \"title\": {\"text\": \"Coronovirus High Risk Areas\"}},\n",
       "                        {\"responsive\": true}\n",
       "                    ).then(function(){\n",
       "                            \n",
       "var gd = document.getElementById('447f29a1-6852-4a5f-bdf8-d539a70aa244');\n",
       "var x = new MutationObserver(function (mutations, observer) {{\n",
       "        var display = window.getComputedStyle(gd).display;\n",
       "        if (!display || display === 'none') {{\n",
       "            console.log([gd, 'removed!']);\n",
       "            Plotly.purge(gd);\n",
       "            observer.disconnect();\n",
       "        }}\n",
       "}});\n",
       "\n",
       "// Listen for the removal of the full notebook cells\n",
       "var notebookContainer = gd.closest('#notebook-container');\n",
       "if (notebookContainer) {{\n",
       "    x.observe(notebookContainer, {childList: true});\n",
       "}}\n",
       "\n",
       "// Listen for the clearing of the current output cell\n",
       "var outputEl = gd.closest('.output');\n",
       "if (outputEl) {{\n",
       "    x.observe(outputEl, {childList: true});\n",
       "}}\n",
       "\n",
       "                        })\n",
       "                };\n",
       "                });\n",
       "            </script>\n",
       "        </div>"
      ]
     },
     "metadata": {},
     "output_type": "display_data"
    }
   ],
   "source": [
    "import plotly.express as px\n",
    "px.set_mapbox_access_token(token)\n",
    "fig = px.scatter_mapbox(\n",
    "    coordinates_df, \n",
    "    lat=\"latitude\", \n",
    "    lon=\"longitude\",     \n",
    "    hover_name = 'address',\n",
    "    zoom=10,\n",
    "    title=r'Coronavirus High Risk Areas',\n",
    "    size=[1] * coordinates_df.shape[0],\n",
    "    size_max=6,\n",
    "    height=900\n",
    ")\n",
    "fig.show()"
   ]
  },
  {
   "cell_type": "code",
   "execution_count": null,
   "metadata": {},
   "outputs": [],
   "source": []
  }
 ],
 "metadata": {
  "kernelspec": {
   "display_name": ".venv",
   "language": "python",
   "name": ".venv"
  },
  "language_info": {
   "codemirror_mode": {
    "name": "ipython",
    "version": 3
   },
   "file_extension": ".py",
   "mimetype": "text/x-python",
   "name": "python",
   "nbconvert_exporter": "python",
   "pygments_lexer": "ipython3",
   "version": "3.6.4"
  },
  "toc": {
   "base_numbering": 1,
   "nav_menu": {},
   "number_sections": true,
   "sideBar": true,
   "skip_h1_title": false,
   "title_cell": "Table of Contents",
   "title_sidebar": "Contents",
   "toc_cell": false,
   "toc_position": {},
   "toc_section_display": true,
   "toc_window_display": false
  }
 },
 "nbformat": 4,
 "nbformat_minor": 4
}
